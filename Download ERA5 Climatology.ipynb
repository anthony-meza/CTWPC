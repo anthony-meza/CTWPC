{
 "cells": [
  {
   "cell_type": "code",
   "execution_count": 6,
   "id": "7ef4a1d3-8783-47f9-b086-3f8460cfa870",
   "metadata": {},
   "outputs": [
    {
     "name": "stdout",
     "output_type": "stream",
     "text": [
      "/vortexfs1/home/anthony.meza/Atmospheric Rivers and Waves/Download Data\n"
     ]
    }
   ],
   "source": [
    "import os\n",
    "os.chdir('/vortexfs1/home/anthony.meza/Atmospheric Rivers and Waves/Download Data/')\n",
    "main_dir = os.getcwd()\n",
    "print(main_dir)"
   ]
  },
  {
   "cell_type": "code",
   "execution_count": 7,
   "id": "c6be779b",
   "metadata": {},
   "outputs": [],
   "source": [
    "from help_funcs import * \n",
    "# from eofs.xarray import Eof\n",
    "import importlib\n",
    "import xarray as xr\n",
    "# importlib.reload(xr)\n",
    "import netCDF4 as nc\n",
    "from pathlib import Path\n",
    "from natsort import natsorted\n",
    "import dask.array as da"
   ]
  },
  {
   "cell_type": "code",
   "execution_count": 8,
   "id": "ae2eddc9-6ca8-40d8-b6a0-db9bc7c3c43f",
   "metadata": {},
   "outputs": [
    {
     "name": "stdout",
     "output_type": "stream",
     "text": [
      "CPU times: user 1 µs, sys: 2 µs, total: 3 µs\n",
      "Wall time: 4.77 µs\n"
     ]
    }
   ],
   "source": [
    "%time\n",
    "from pathlib import Path\n",
    "from natsort import natsorted\n",
    "GLORYS_dir = r\"/vortexfs1/home/anthony.meza/GLORYS_data\" \n",
    "results = [str(result) for result in list(Path(GLORYS_dir).rglob(\"*.[nN][cC]\"))] #get all files\n",
    "results = natsorted(results) #sort all files \n",
    "\n",
    "years = natsorted(list(set([result[41:45] for result in results])))\n",
    "months = natsorted(['01', '02', '03', '04', '05', '06', '07', '08', '09', '10', '11', '12'])"
   ]
  },
  {
   "cell_type": "code",
   "execution_count": 13,
   "id": "133a5eb4-0794-4245-89f4-a7c582f509ee",
   "metadata": {},
   "outputs": [],
   "source": [
    "import cdsapi\n",
    "c = cdsapi.Client(wait_until_complete = True)\n",
    "def accessERA5(c, year): #accessing from https://doi.org/10.24381/cds.f17050d7\n",
    "    c.retrieve(\n",
    "        'reanalysis-era5-single-levels-monthly-means',\n",
    "        {\n",
    "            'product_type': 'monthly_averaged_reanalysis',\n",
    "            'variable': [\n",
    "                'land_sea_mask', 'total_column_rain_water', 'total_column_water_vapour', \n",
    "                'total_precipitation',\n",
    "            ],\n",
    "            'year': str(year),\n",
    "            'month': [\n",
    "                '01', '02', '03',\n",
    "                '04', '05', '06',\n",
    "                '07', '08', '09',\n",
    "                '10', '11', '12',\n",
    "            ],\n",
    "            'time': '00:00',\n",
    "            'area': [\n",
    "                50, -135, 20,\n",
    "                -110,\n",
    "            ],\n",
    "            'format': 'netcdf',\n",
    "        },\n",
    "        'download' + str(year) + '.nc')"
   ]
  },
  {
   "cell_type": "code",
   "execution_count": 14,
   "id": "3b97fe62-03b2-498e-b8c5-96012ebcbb3a",
   "metadata": {
    "tags": []
   },
   "outputs": [
    {
     "name": "stderr",
     "output_type": "stream",
     "text": [
      "2022-12-26 19:23:41,911 INFO Welcome to the CDS\n",
      "2022-12-26 19:23:41,911 INFO Sending request to https://cds.climate.copernicus.eu/api/v2/resources/reanalysis-era5-single-levels-monthly-means\n"
     ]
    },
    {
     "name": "stdout",
     "output_type": "stream",
     "text": [
      "1992\n"
     ]
    },
    {
     "name": "stderr",
     "output_type": "stream",
     "text": [
      "2022-12-26 19:23:42,052 INFO Request is completed\n",
      "2022-12-26 19:23:42,052 INFO Downloading https://download-0006-clone.copernicus-climate.eu/cache-compute-0006/cache/data8/adaptor.mars.internal-1672100589.9831204-19710-8-81b56d99-8ad0-46e4-a03d-f14db8f1b0cd.nc to download1992.nc (1.1M)\n",
      "2022-12-26 19:23:42,784 INFO Download rate 1.5M/s   \n",
      "2022-12-26 19:23:43,001 INFO Welcome to the CDS\n",
      "2022-12-26 19:23:43,001 INFO Sending request to https://cds.climate.copernicus.eu/api/v2/resources/reanalysis-era5-single-levels-monthly-means\n"
     ]
    },
    {
     "name": "stdout",
     "output_type": "stream",
     "text": [
      "1993\n"
     ]
    },
    {
     "name": "stderr",
     "output_type": "stream",
     "text": [
      "2022-12-26 19:23:43,142 INFO Request is queued\n",
      "2022-12-26 19:23:44,250 INFO Request is running\n",
      "2022-12-26 19:23:51,700 INFO Request is completed\n",
      "2022-12-26 19:23:51,700 INFO Downloading https://download-0014-clone.copernicus-climate.eu/cache-compute-0014/cache/data8/adaptor.mars.internal-1672100629.7382922-26834-3-510b3082-b70d-47cf-9f34-05f53a59c766.nc to download1993.nc (1.1M)\n",
      "2022-12-26 19:23:52,872 INFO Download rate 980.9K/s \n",
      "2022-12-26 19:23:53,088 INFO Welcome to the CDS\n",
      "2022-12-26 19:23:53,089 INFO Sending request to https://cds.climate.copernicus.eu/api/v2/resources/reanalysis-era5-single-levels-monthly-means\n"
     ]
    },
    {
     "name": "stdout",
     "output_type": "stream",
     "text": [
      "1994\n"
     ]
    },
    {
     "name": "stderr",
     "output_type": "stream",
     "text": [
      "2022-12-26 19:23:53,207 INFO Request is queued\n",
      "2022-12-26 19:23:54,317 INFO Request is running\n",
      "2022-12-26 19:24:01,773 INFO Request is completed\n",
      "2022-12-26 19:24:01,773 INFO Downloading https://download-0013-clone.copernicus-climate.eu/cache-compute-0013/cache/data8/adaptor.mars.internal-1672100639.5562415-11974-20-c136640d-c052-4a4e-a09b-64fa1e1d2ecd.nc to download1994.nc (1.1M)\n",
      "2022-12-26 19:24:03,001 INFO Download rate 935.5K/s \n",
      "2022-12-26 19:24:03,219 INFO Welcome to the CDS\n",
      "2022-12-26 19:24:03,220 INFO Sending request to https://cds.climate.copernicus.eu/api/v2/resources/reanalysis-era5-single-levels-monthly-means\n"
     ]
    },
    {
     "name": "stdout",
     "output_type": "stream",
     "text": [
      "1995\n"
     ]
    },
    {
     "name": "stderr",
     "output_type": "stream",
     "text": [
      "2022-12-26 19:24:03,349 INFO Request is queued\n",
      "2022-12-26 19:24:04,458 INFO Request is running\n",
      "2022-12-26 19:24:11,911 INFO Request is completed\n",
      "2022-12-26 19:24:11,912 INFO Downloading https://download-0004-clone.copernicus-climate.eu/cache-compute-0004/cache/data0/adaptor.mars.internal-1672100649.465639-5543-17-95b2250c-9c71-41a3-9b8d-98942ae8611d.nc to download1995.nc (1.1M)\n",
      "2022-12-26 19:24:13,088 INFO Download rate 976.8K/s \n",
      "2022-12-26 19:24:13,305 INFO Welcome to the CDS\n",
      "2022-12-26 19:24:13,306 INFO Sending request to https://cds.climate.copernicus.eu/api/v2/resources/reanalysis-era5-single-levels-monthly-means\n"
     ]
    },
    {
     "name": "stdout",
     "output_type": "stream",
     "text": [
      "1996\n"
     ]
    },
    {
     "name": "stderr",
     "output_type": "stream",
     "text": [
      "2022-12-26 19:24:13,429 INFO Request is queued\n",
      "2022-12-26 19:24:14,538 INFO Request is running\n",
      "2022-12-26 19:24:21,991 INFO Request is completed\n",
      "2022-12-26 19:24:21,991 INFO Downloading https://download-0015-clone.copernicus-climate.eu/cache-compute-0015/cache/data0/adaptor.mars.internal-1672100659.1579678-7321-7-e6968b1c-8597-4da2-9eba-668419b7afbe.nc to download1996.nc (1.1M)\n",
      "2022-12-26 19:24:23,207 INFO Download rate 944.8K/s \n",
      "2022-12-26 19:24:23,427 INFO Welcome to the CDS\n",
      "2022-12-26 19:24:23,428 INFO Sending request to https://cds.climate.copernicus.eu/api/v2/resources/reanalysis-era5-single-levels-monthly-means\n"
     ]
    },
    {
     "name": "stdout",
     "output_type": "stream",
     "text": [
      "1997\n"
     ]
    },
    {
     "name": "stderr",
     "output_type": "stream",
     "text": [
      "2022-12-26 19:24:23,560 INFO Request is queued\n",
      "2022-12-26 19:24:24,668 INFO Request is running\n",
      "2022-12-26 19:24:32,120 INFO Request is completed\n",
      "2022-12-26 19:24:32,121 INFO Downloading https://download-0012-clone.copernicus-climate.eu/cache-compute-0012/cache/data0/adaptor.mars.internal-1672100669.5872762-26733-1-74e2652f-4cc4-4ed1-a1ff-becb8ca2a5a4.nc to download1997.nc (1.1M)\n",
      "2022-12-26 19:24:33,304 INFO Download rate 971.2K/s \n",
      "2022-12-26 19:24:33,521 INFO Welcome to the CDS\n",
      "2022-12-26 19:24:33,522 INFO Sending request to https://cds.climate.copernicus.eu/api/v2/resources/reanalysis-era5-single-levels-monthly-means\n"
     ]
    },
    {
     "name": "stdout",
     "output_type": "stream",
     "text": [
      "1998\n"
     ]
    },
    {
     "name": "stderr",
     "output_type": "stream",
     "text": [
      "2022-12-26 19:24:33,682 INFO Request is queued\n",
      "2022-12-26 19:24:34,792 INFO Request is running\n",
      "2022-12-26 19:24:42,246 INFO Request is completed\n",
      "2022-12-26 19:24:42,247 INFO Downloading https://download-0002-clone.copernicus-climate.eu/cache-compute-0002/cache/data3/adaptor.mars.internal-1672100679.528364-21898-18-94e06ce4-24b6-489f-8145-34045959eb43.nc to download1998.nc (1.1M)\n",
      "2022-12-26 19:24:43,414 INFO Download rate 984.3K/s \n",
      "2022-12-26 19:24:43,631 INFO Welcome to the CDS\n",
      "2022-12-26 19:24:43,631 INFO Sending request to https://cds.climate.copernicus.eu/api/v2/resources/reanalysis-era5-single-levels-monthly-means\n"
     ]
    },
    {
     "name": "stdout",
     "output_type": "stream",
     "text": [
      "1999\n"
     ]
    },
    {
     "name": "stderr",
     "output_type": "stream",
     "text": [
      "2022-12-26 19:24:43,766 INFO Request is queued\n",
      "2022-12-26 19:24:44,877 INFO Request is running\n",
      "2022-12-26 19:24:52,329 INFO Request is completed\n",
      "2022-12-26 19:24:52,330 INFO Downloading https://download-0009-clone.copernicus-climate.eu/cache-compute-0009/cache/data8/adaptor.mars.internal-1672100690.0689278-13212-9-df908973-cfd8-44db-90df-b06b1e51a934.nc to download1999.nc (1.1M)\n",
      "2022-12-26 19:24:53,539 INFO Download rate 950.4K/s \n",
      "2022-12-26 19:24:53,755 INFO Welcome to the CDS\n",
      "2022-12-26 19:24:53,756 INFO Sending request to https://cds.climate.copernicus.eu/api/v2/resources/reanalysis-era5-single-levels-monthly-means\n"
     ]
    },
    {
     "name": "stdout",
     "output_type": "stream",
     "text": [
      "2000\n"
     ]
    },
    {
     "name": "stderr",
     "output_type": "stream",
     "text": [
      "2022-12-26 19:24:53,895 INFO Request is queued\n",
      "2022-12-26 19:24:55,005 INFO Request is running\n",
      "2022-12-26 19:25:02,457 INFO Request is completed\n",
      "2022-12-26 19:25:02,458 INFO Downloading https://download-0005-clone.copernicus-climate.eu/cache-compute-0005/cache/data9/adaptor.mars.internal-1672100700.13566-14463-4-df4c3b0e-44f0-44cc-a139-f51724304373.nc to download2000.nc (1.1M)\n",
      "2022-12-26 19:25:03,606 INFO Download rate 1000.2K/s\n",
      "2022-12-26 19:25:03,824 INFO Welcome to the CDS\n",
      "2022-12-26 19:25:03,824 INFO Sending request to https://cds.climate.copernicus.eu/api/v2/resources/reanalysis-era5-single-levels-monthly-means\n"
     ]
    },
    {
     "name": "stdout",
     "output_type": "stream",
     "text": [
      "2001\n"
     ]
    },
    {
     "name": "stderr",
     "output_type": "stream",
     "text": [
      "2022-12-26 19:25:03,946 INFO Request is queued\n",
      "2022-12-26 19:25:05,056 INFO Request is running\n",
      "2022-12-26 19:25:12,513 INFO Request is completed\n",
      "2022-12-26 19:25:12,514 INFO Downloading https://download-0020.copernicus-climate.eu/cache-compute-0020/cache/data7/adaptor.mars.internal-1672100710.2189944-31783-1-5a9df176-7b14-4cea-aa4e-f37a207130f9.nc to download2001.nc (1.1M)\n",
      "2022-12-26 19:25:13,681 INFO Download rate 983.8K/s \n",
      "2022-12-26 19:25:13,899 INFO Welcome to the CDS\n",
      "2022-12-26 19:25:13,900 INFO Sending request to https://cds.climate.copernicus.eu/api/v2/resources/reanalysis-era5-single-levels-monthly-means\n"
     ]
    },
    {
     "name": "stdout",
     "output_type": "stream",
     "text": [
      "2002\n"
     ]
    },
    {
     "name": "stderr",
     "output_type": "stream",
     "text": [
      "2022-12-26 19:25:14,034 INFO Request is queued\n",
      "2022-12-26 19:25:15,143 INFO Request is running\n",
      "2022-12-26 19:25:22,598 INFO Request is completed\n",
      "2022-12-26 19:25:22,599 INFO Downloading https://download-0006-clone.copernicus-climate.eu/cache-compute-0006/cache/data5/adaptor.mars.internal-1672100719.9375083-18342-13-c66043f7-9f8e-4a5a-ad3f-180d46faea01.nc to download2002.nc (1.1M)\n",
      "2022-12-26 19:25:23,687 INFO Download rate 1M/s     \n",
      "2022-12-26 19:25:23,904 INFO Welcome to the CDS\n",
      "2022-12-26 19:25:23,904 INFO Sending request to https://cds.climate.copernicus.eu/api/v2/resources/reanalysis-era5-single-levels-monthly-means\n"
     ]
    },
    {
     "name": "stdout",
     "output_type": "stream",
     "text": [
      "2003\n"
     ]
    },
    {
     "name": "stderr",
     "output_type": "stream",
     "text": [
      "2022-12-26 19:25:24,055 INFO Request is queued\n",
      "2022-12-26 19:25:25,167 INFO Request is running\n",
      "2022-12-26 19:25:32,624 INFO Request is completed\n",
      "2022-12-26 19:25:32,625 INFO Downloading https://download-0004-clone.copernicus-climate.eu/cache-compute-0004/cache/data6/adaptor.mars.internal-1672100729.9316974-10429-2-f812feac-b3c6-4189-9ea9-5552070e30bc.nc to download2003.nc (1.1M)\n",
      "2022-12-26 19:25:33,688 INFO Download rate 1.1M/s   \n",
      "2022-12-26 19:25:33,907 INFO Welcome to the CDS\n",
      "2022-12-26 19:25:33,908 INFO Sending request to https://cds.climate.copernicus.eu/api/v2/resources/reanalysis-era5-single-levels-monthly-means\n"
     ]
    },
    {
     "name": "stdout",
     "output_type": "stream",
     "text": [
      "2004\n"
     ]
    },
    {
     "name": "stderr",
     "output_type": "stream",
     "text": [
      "2022-12-26 19:25:34,060 INFO Request is queued\n",
      "2022-12-26 19:25:35,170 INFO Request is running\n",
      "2022-12-26 19:25:42,625 INFO Request is completed\n",
      "2022-12-26 19:25:42,626 INFO Downloading https://download-0005-clone.copernicus-climate.eu/cache-compute-0005/cache/data1/adaptor.mars.internal-1672100740.0302432-11180-9-357b0945-835b-46ea-ad57-7af16e0ff2bc.nc to download2004.nc (1.1M)\n",
      "2022-12-26 19:25:43,348 INFO Download rate 1.6M/s   \n",
      "2022-12-26 19:25:43,566 INFO Welcome to the CDS\n",
      "2022-12-26 19:25:43,567 INFO Sending request to https://cds.climate.copernicus.eu/api/v2/resources/reanalysis-era5-single-levels-monthly-means\n"
     ]
    },
    {
     "name": "stdout",
     "output_type": "stream",
     "text": [
      "2005\n"
     ]
    },
    {
     "name": "stderr",
     "output_type": "stream",
     "text": [
      "2022-12-26 19:25:43,696 INFO Request is queued\n",
      "2022-12-26 19:25:44,805 INFO Request is running\n",
      "2022-12-26 19:25:52,640 INFO Request is completed\n",
      "2022-12-26 19:25:52,641 INFO Downloading https://download-0016.copernicus-climate.eu/cache-compute-0016/cache/data9/adaptor.mars.internal-1672100750.0150483-20659-4-f29134c3-2921-4005-9750-0da781300093.nc to download2005.nc (1.1M)\n",
      "2022-12-26 19:25:53,855 INFO Download rate 945.8K/s \n",
      "2022-12-26 19:25:54,085 INFO Welcome to the CDS\n",
      "2022-12-26 19:25:54,085 INFO Sending request to https://cds.climate.copernicus.eu/api/v2/resources/reanalysis-era5-single-levels-monthly-means\n"
     ]
    },
    {
     "name": "stdout",
     "output_type": "stream",
     "text": [
      "2006\n"
     ]
    },
    {
     "name": "stderr",
     "output_type": "stream",
     "text": [
      "2022-12-26 19:25:54,210 INFO Request is queued\n",
      "2022-12-26 19:25:55,325 INFO Request is running\n",
      "2022-12-26 19:26:02,796 INFO Request is completed\n",
      "2022-12-26 19:26:02,797 INFO Downloading https://download-0012-clone.copernicus-climate.eu/cache-compute-0012/cache/data0/adaptor.mars.internal-1672100760.2398427-20419-12-bf50a67f-796b-4cb7-9a00-48a16c75121b.nc to download2006.nc (1.1M)\n",
      "2022-12-26 19:26:03,891 INFO Download rate 1M/s     \n",
      "2022-12-26 19:26:04,120 INFO Welcome to the CDS\n",
      "2022-12-26 19:26:04,121 INFO Sending request to https://cds.climate.copernicus.eu/api/v2/resources/reanalysis-era5-single-levels-monthly-means\n"
     ]
    },
    {
     "name": "stdout",
     "output_type": "stream",
     "text": [
      "2007\n"
     ]
    },
    {
     "name": "stderr",
     "output_type": "stream",
     "text": [
      "2022-12-26 19:26:04,248 INFO Request is queued\n",
      "2022-12-26 19:26:05,365 INFO Request is running\n",
      "2022-12-26 19:26:12,835 INFO Request is completed\n",
      "2022-12-26 19:26:12,835 INFO Downloading https://download-0003-clone.copernicus-climate.eu/cache-compute-0003/cache/data7/adaptor.mars.internal-1672100770.4207032-12826-7-a4efece7-5329-45ea-9948-3de53b77d10f.nc to download2007.nc (1.1M)\n",
      "2022-12-26 19:26:14,035 INFO Download rate 957.5K/s \n",
      "2022-12-26 19:26:14,264 INFO Welcome to the CDS\n",
      "2022-12-26 19:26:14,264 INFO Sending request to https://cds.climate.copernicus.eu/api/v2/resources/reanalysis-era5-single-levels-monthly-means\n"
     ]
    },
    {
     "name": "stdout",
     "output_type": "stream",
     "text": [
      "2008\n"
     ]
    },
    {
     "name": "stderr",
     "output_type": "stream",
     "text": [
      "2022-12-26 19:26:14,394 INFO Request is queued\n",
      "2022-12-26 19:26:15,507 INFO Request is running\n",
      "2022-12-26 19:26:22,978 INFO Request is completed\n",
      "2022-12-26 19:26:22,979 INFO Downloading https://download-0002-clone.copernicus-climate.eu/cache-compute-0002/cache/data0/adaptor.mars.internal-1672100780.1271274-22677-14-0f306750-5d6b-4dd3-85c3-93a01f292d78.nc to download2008.nc (1.1M)\n",
      "2022-12-26 19:26:24,067 INFO Download rate 1M/s     \n",
      "2022-12-26 19:26:24,296 INFO Welcome to the CDS\n",
      "2022-12-26 19:26:24,296 INFO Sending request to https://cds.climate.copernicus.eu/api/v2/resources/reanalysis-era5-single-levels-monthly-means\n"
     ]
    },
    {
     "name": "stdout",
     "output_type": "stream",
     "text": [
      "2009\n"
     ]
    },
    {
     "name": "stderr",
     "output_type": "stream",
     "text": [
      "2022-12-26 19:26:24,424 INFO Request is queued\n",
      "2022-12-26 19:26:25,538 INFO Request is running\n",
      "2022-12-26 19:26:33,006 INFO Request is completed\n",
      "2022-12-26 19:26:33,007 INFO Downloading https://download-0019.copernicus-climate.eu/cache-compute-0019/cache/data8/adaptor.mars.internal-1672100790.8044493-10825-3-22b83bf8-584c-4e60-a367-3eac7a925243.nc to download2009.nc (1.1M)\n",
      "2022-12-26 19:26:34,187 INFO Download rate 973.8K/s \n",
      "2022-12-26 19:26:34,415 INFO Welcome to the CDS\n",
      "2022-12-26 19:26:34,416 INFO Sending request to https://cds.climate.copernicus.eu/api/v2/resources/reanalysis-era5-single-levels-monthly-means\n"
     ]
    },
    {
     "name": "stdout",
     "output_type": "stream",
     "text": [
      "2010\n"
     ]
    },
    {
     "name": "stderr",
     "output_type": "stream",
     "text": [
      "2022-12-26 19:26:34,551 INFO Request is queued\n",
      "2022-12-26 19:26:35,664 INFO Request is running\n",
      "2022-12-26 19:26:43,134 INFO Request is completed\n",
      "2022-12-26 19:26:43,135 INFO Downloading https://download-0017.copernicus-climate.eu/cache-compute-0017/cache/data6/adaptor.mars.internal-1672100801.3615222-23265-13-e649f1b2-e3d6-4dc6-ac9e-b994baf573e1.nc to download2010.nc (1.1M)\n",
      "2022-12-26 19:26:44,433 INFO Download rate 885K/s   \n",
      "2022-12-26 19:26:44,663 INFO Welcome to the CDS\n",
      "2022-12-26 19:26:44,664 INFO Sending request to https://cds.climate.copernicus.eu/api/v2/resources/reanalysis-era5-single-levels-monthly-means\n"
     ]
    },
    {
     "name": "stdout",
     "output_type": "stream",
     "text": [
      "2011\n"
     ]
    },
    {
     "name": "stderr",
     "output_type": "stream",
     "text": [
      "2022-12-26 19:26:44,797 INFO Request is queued\n",
      "2022-12-26 19:26:45,911 INFO Request is running\n",
      "2022-12-26 19:26:53,381 INFO Request is completed\n",
      "2022-12-26 19:26:53,382 INFO Downloading https://download-0019.copernicus-climate.eu/cache-compute-0019/cache/data8/adaptor.mars.internal-1672100810.5482821-9365-6-55a090c0-f72b-4fcf-83cd-392629d85be2.nc to download2011.nc (1.1M)\n",
      "2022-12-26 19:26:54,219 INFO Download rate 1.3M/s   \n",
      "2022-12-26 19:26:54,451 INFO Welcome to the CDS\n",
      "2022-12-26 19:26:54,451 INFO Sending request to https://cds.climate.copernicus.eu/api/v2/resources/reanalysis-era5-single-levels-monthly-means\n"
     ]
    },
    {
     "name": "stdout",
     "output_type": "stream",
     "text": [
      "2012\n"
     ]
    },
    {
     "name": "stderr",
     "output_type": "stream",
     "text": [
      "2022-12-26 19:26:54,611 INFO Request is queued\n",
      "2022-12-26 19:26:55,725 INFO Request is running\n",
      "2022-12-26 19:27:03,197 INFO Request is completed\n",
      "2022-12-26 19:27:03,197 INFO Downloading https://download-0016.copernicus-climate.eu/cache-compute-0016/cache/data1/adaptor.mars.internal-1672100820.7203274-12872-15-eb50c4aa-5778-4f39-a836-0666c60a2972.nc to download2012.nc (1.1M)\n",
      "2022-12-26 19:27:04,314 INFO Download rate 1M/s     \n",
      "2022-12-26 19:27:04,544 INFO Welcome to the CDS\n",
      "2022-12-26 19:27:04,545 INFO Sending request to https://cds.climate.copernicus.eu/api/v2/resources/reanalysis-era5-single-levels-monthly-means\n"
     ]
    },
    {
     "name": "stdout",
     "output_type": "stream",
     "text": [
      "2013\n"
     ]
    },
    {
     "name": "stderr",
     "output_type": "stream",
     "text": [
      "2022-12-26 19:27:04,661 INFO Request is queued\n",
      "2022-12-26 19:27:05,778 INFO Request is running\n",
      "2022-12-26 19:27:13,251 INFO Request is completed\n",
      "2022-12-26 19:27:13,252 INFO Downloading https://download-0004-clone.copernicus-climate.eu/cache-compute-0004/cache/data4/adaptor.mars.internal-1672100830.5964444-5117-8-6dedb3ee-26ce-4472-83db-cb599d634be8.nc to download2013.nc (1.1M)\n",
      "2022-12-26 19:27:14,339 INFO Download rate 1M/s     \n",
      "2022-12-26 19:27:14,569 INFO Welcome to the CDS\n",
      "2022-12-26 19:27:14,570 INFO Sending request to https://cds.climate.copernicus.eu/api/v2/resources/reanalysis-era5-single-levels-monthly-means\n"
     ]
    },
    {
     "name": "stdout",
     "output_type": "stream",
     "text": [
      "2014\n"
     ]
    },
    {
     "name": "stderr",
     "output_type": "stream",
     "text": [
      "2022-12-26 19:27:14,686 INFO Request is queued\n",
      "2022-12-26 19:27:15,803 INFO Request is running\n",
      "2022-12-26 19:27:23,276 INFO Request is completed\n",
      "2022-12-26 19:27:23,276 INFO Downloading https://download-0014-clone.copernicus-climate.eu/cache-compute-0014/cache/data3/adaptor.mars.internal-1672100840.978613-21472-14-a7e1f858-08ea-44e5-8bfa-0a96257a14bf.nc to download2014.nc (1.1M)\n",
      "2022-12-26 19:27:24,395 INFO Download rate 1M/s     \n",
      "2022-12-26 19:27:24,625 INFO Welcome to the CDS\n",
      "2022-12-26 19:27:24,626 INFO Sending request to https://cds.climate.copernicus.eu/api/v2/resources/reanalysis-era5-single-levels-monthly-means\n"
     ]
    },
    {
     "name": "stdout",
     "output_type": "stream",
     "text": [
      "2015\n"
     ]
    },
    {
     "name": "stderr",
     "output_type": "stream",
     "text": [
      "2022-12-26 19:27:24,888 INFO Request is queued\n",
      "2022-12-26 19:27:26,005 INFO Request is running\n",
      "2022-12-26 19:27:33,477 INFO Request is completed\n",
      "2022-12-26 19:27:33,478 INFO Downloading https://download-0019.copernicus-climate.eu/cache-compute-0019/cache/data3/adaptor.mars.internal-1672100850.6832933-5900-12-cd282bb8-d54d-4e74-aad7-3a8a65d671c1.nc to download2015.nc (1.1M)\n",
      "2022-12-26 19:27:34,214 INFO Download rate 1.5M/s   \n",
      "2022-12-26 19:27:34,447 INFO Welcome to the CDS\n",
      "2022-12-26 19:27:34,448 INFO Sending request to https://cds.climate.copernicus.eu/api/v2/resources/reanalysis-era5-single-levels-monthly-means\n"
     ]
    },
    {
     "name": "stdout",
     "output_type": "stream",
     "text": [
      "2016\n"
     ]
    },
    {
     "name": "stderr",
     "output_type": "stream",
     "text": [
      "2022-12-26 19:27:34,653 INFO Request is queued\n",
      "2022-12-26 19:27:35,769 INFO Request is running\n",
      "2022-12-26 19:27:43,240 INFO Request is completed\n",
      "2022-12-26 19:27:43,241 INFO Downloading https://download-0001-clone.copernicus-climate.eu/cache-compute-0001/cache/data9/adaptor.mars.internal-1672100860.427421-912-9-e7453694-d684-4862-9340-ee6dcb24b6bb.nc to download2016.nc (1.1M)\n",
      "2022-12-26 19:27:44,427 INFO Download rate 968.7K/s \n",
      "2022-12-26 19:27:44,658 INFO Welcome to the CDS\n",
      "2022-12-26 19:27:44,659 INFO Sending request to https://cds.climate.copernicus.eu/api/v2/resources/reanalysis-era5-single-levels-monthly-means\n"
     ]
    },
    {
     "name": "stdout",
     "output_type": "stream",
     "text": [
      "2017\n"
     ]
    },
    {
     "name": "stderr",
     "output_type": "stream",
     "text": [
      "2022-12-26 19:27:44,778 INFO Request is queued\n",
      "2022-12-26 19:27:45,894 INFO Request is running\n",
      "2022-12-26 19:27:53,370 INFO Request is completed\n",
      "2022-12-26 19:27:53,371 INFO Downloading https://download-0017.copernicus-climate.eu/cache-compute-0017/cache/data7/adaptor.mars.internal-1672100870.828876-591-5-171db066-dfe4-4fb0-9728-47a00da3644c.nc to download2017.nc (1.1M)\n",
      "2022-12-26 19:27:54,491 INFO Download rate 1M/s     \n",
      "2022-12-26 19:27:54,722 INFO Welcome to the CDS\n",
      "2022-12-26 19:27:54,723 INFO Sending request to https://cds.climate.copernicus.eu/api/v2/resources/reanalysis-era5-single-levels-monthly-means\n"
     ]
    },
    {
     "name": "stdout",
     "output_type": "stream",
     "text": [
      "2018\n"
     ]
    },
    {
     "name": "stderr",
     "output_type": "stream",
     "text": [
      "2022-12-26 19:27:54,871 INFO Request is queued\n",
      "2022-12-26 19:27:55,985 INFO Request is running\n",
      "2022-12-26 19:28:03,456 INFO Request is completed\n",
      "2022-12-26 19:28:03,457 INFO Downloading https://download-0019.copernicus-climate.eu/cache-compute-0019/cache/data0/adaptor.mars.internal-1672100880.6561716-7287-7-b9af06c1-b0be-404c-9edb-e52dc95eac88.nc to download2018.nc (1.1M)\n",
      "2022-12-26 19:28:04,189 INFO Download rate 1.5M/s   \n",
      "2022-12-26 19:28:04,419 INFO Welcome to the CDS\n",
      "2022-12-26 19:28:04,420 INFO Sending request to https://cds.climate.copernicus.eu/api/v2/resources/reanalysis-era5-single-levels-monthly-means\n"
     ]
    },
    {
     "name": "stdout",
     "output_type": "stream",
     "text": [
      "2019\n"
     ]
    },
    {
     "name": "stderr",
     "output_type": "stream",
     "text": [
      "2022-12-26 19:28:04,555 INFO Request is queued\n",
      "2022-12-26 19:28:05,672 INFO Request is running\n",
      "2022-12-26 19:28:13,511 INFO Request is completed\n",
      "2022-12-26 19:28:13,511 INFO Downloading https://download-0020.copernicus-climate.eu/cache-compute-0020/cache/data0/adaptor.mars.internal-1672100890.422795-20517-13-95372ff9-96c6-4078-af54-aaf67b142acb.nc to download2019.nc (1.1M)\n",
      "2022-12-26 19:28:14,599 INFO Download rate 1M/s     \n",
      "2022-12-26 19:28:14,834 INFO Welcome to the CDS\n",
      "2022-12-26 19:28:14,835 INFO Sending request to https://cds.climate.copernicus.eu/api/v2/resources/reanalysis-era5-single-levels-monthly-means\n"
     ]
    },
    {
     "name": "stdout",
     "output_type": "stream",
     "text": [
      "2020\n"
     ]
    },
    {
     "name": "stderr",
     "output_type": "stream",
     "text": [
      "2022-12-26 19:28:14,965 INFO Request is queued\n",
      "2022-12-26 19:28:16,391 INFO Request is running\n",
      "2022-12-26 19:28:23,866 INFO Request is completed\n",
      "2022-12-26 19:28:23,867 INFO Downloading https://download-0014-clone.copernicus-climate.eu/cache-compute-0014/cache/data6/adaptor.mars.internal-1672100900.9453752-20391-19-1376dc45-d74f-400b-9d7b-5983432f7292.nc to download2020.nc (1.1M)\n",
      "2022-12-26 19:28:24,619 INFO Download rate 1.5M/s   \n"
     ]
    }
   ],
   "source": [
    "import time\n",
    "NINO_97_ERA5 = []\n",
    "for year in range(1992, 2021):\n",
    "    print(year)\n",
    "    accessERA5(c, year)\n",
    "    with xr.open_dataset('download' + str(year) + '.nc') as ds:\n",
    "        NINO_97_ERA5.append(ds)"
   ]
  },
  {
   "cell_type": "code",
   "execution_count": 15,
   "id": "de002bae-7762-4ea7-8591-68ae0ed4a094",
   "metadata": {},
   "outputs": [],
   "source": [
    "NINO_97_ds_ERA5 = xr.concat(NINO_97_ERA5, dim = \"time\", data_vars = \"minimal\", coords = \"minimal\")"
   ]
  },
  {
   "cell_type": "code",
   "execution_count": 21,
   "id": "32112209-4b6f-4e6f-b333-aff1311b6b2e",
   "metadata": {},
   "outputs": [],
   "source": [
    "NINO_97_ds_ERA5.to_netcdf(\"../ERA5_data/ERA5_monthly.nc\")"
   ]
  },
  {
   "cell_type": "code",
   "execution_count": 22,
   "id": "1bf61171-591a-4fc5-967d-05b9ffaca64d",
   "metadata": {},
   "outputs": [
    {
     "data": {
      "text/html": [
       "<div><svg style=\"position: absolute; width: 0; height: 0; overflow: hidden\">\n",
       "<defs>\n",
       "<symbol id=\"icon-database\" viewBox=\"0 0 32 32\">\n",
       "<path d=\"M16 0c-8.837 0-16 2.239-16 5v4c0 2.761 7.163 5 16 5s16-2.239 16-5v-4c0-2.761-7.163-5-16-5z\"></path>\n",
       "<path d=\"M16 17c-8.837 0-16-2.239-16-5v6c0 2.761 7.163 5 16 5s16-2.239 16-5v-6c0 2.761-7.163 5-16 5z\"></path>\n",
       "<path d=\"M16 26c-8.837 0-16-2.239-16-5v6c0 2.761 7.163 5 16 5s16-2.239 16-5v-6c0 2.761-7.163 5-16 5z\"></path>\n",
       "</symbol>\n",
       "<symbol id=\"icon-file-text2\" viewBox=\"0 0 32 32\">\n",
       "<path d=\"M28.681 7.159c-0.694-0.947-1.662-2.053-2.724-3.116s-2.169-2.030-3.116-2.724c-1.612-1.182-2.393-1.319-2.841-1.319h-15.5c-1.378 0-2.5 1.121-2.5 2.5v27c0 1.378 1.122 2.5 2.5 2.5h23c1.378 0 2.5-1.122 2.5-2.5v-19.5c0-0.448-0.137-1.23-1.319-2.841zM24.543 5.457c0.959 0.959 1.712 1.825 2.268 2.543h-4.811v-4.811c0.718 0.556 1.584 1.309 2.543 2.268zM28 29.5c0 0.271-0.229 0.5-0.5 0.5h-23c-0.271 0-0.5-0.229-0.5-0.5v-27c0-0.271 0.229-0.5 0.5-0.5 0 0 15.499-0 15.5 0v7c0 0.552 0.448 1 1 1h7v19.5z\"></path>\n",
       "<path d=\"M23 26h-14c-0.552 0-1-0.448-1-1s0.448-1 1-1h14c0.552 0 1 0.448 1 1s-0.448 1-1 1z\"></path>\n",
       "<path d=\"M23 22h-14c-0.552 0-1-0.448-1-1s0.448-1 1-1h14c0.552 0 1 0.448 1 1s-0.448 1-1 1z\"></path>\n",
       "<path d=\"M23 18h-14c-0.552 0-1-0.448-1-1s0.448-1 1-1h14c0.552 0 1 0.448 1 1s-0.448 1-1 1z\"></path>\n",
       "</symbol>\n",
       "</defs>\n",
       "</svg>\n",
       "<style>/* CSS stylesheet for displaying xarray objects in jupyterlab.\n",
       " *\n",
       " */\n",
       "\n",
       ":root {\n",
       "  --xr-font-color0: var(--jp-content-font-color0, rgba(0, 0, 0, 1));\n",
       "  --xr-font-color2: var(--jp-content-font-color2, rgba(0, 0, 0, 0.54));\n",
       "  --xr-font-color3: var(--jp-content-font-color3, rgba(0, 0, 0, 0.38));\n",
       "  --xr-border-color: var(--jp-border-color2, #e0e0e0);\n",
       "  --xr-disabled-color: var(--jp-layout-color3, #bdbdbd);\n",
       "  --xr-background-color: var(--jp-layout-color0, white);\n",
       "  --xr-background-color-row-even: var(--jp-layout-color1, white);\n",
       "  --xr-background-color-row-odd: var(--jp-layout-color2, #eeeeee);\n",
       "}\n",
       "\n",
       "html[theme=dark],\n",
       "body[data-theme=dark],\n",
       "body.vscode-dark {\n",
       "  --xr-font-color0: rgba(255, 255, 255, 1);\n",
       "  --xr-font-color2: rgba(255, 255, 255, 0.54);\n",
       "  --xr-font-color3: rgba(255, 255, 255, 0.38);\n",
       "  --xr-border-color: #1F1F1F;\n",
       "  --xr-disabled-color: #515151;\n",
       "  --xr-background-color: #111111;\n",
       "  --xr-background-color-row-even: #111111;\n",
       "  --xr-background-color-row-odd: #313131;\n",
       "}\n",
       "\n",
       ".xr-wrap {\n",
       "  display: block !important;\n",
       "  min-width: 300px;\n",
       "  max-width: 700px;\n",
       "}\n",
       "\n",
       ".xr-text-repr-fallback {\n",
       "  /* fallback to plain text repr when CSS is not injected (untrusted notebook) */\n",
       "  display: none;\n",
       "}\n",
       "\n",
       ".xr-header {\n",
       "  padding-top: 6px;\n",
       "  padding-bottom: 6px;\n",
       "  margin-bottom: 4px;\n",
       "  border-bottom: solid 1px var(--xr-border-color);\n",
       "}\n",
       "\n",
       ".xr-header > div,\n",
       ".xr-header > ul {\n",
       "  display: inline;\n",
       "  margin-top: 0;\n",
       "  margin-bottom: 0;\n",
       "}\n",
       "\n",
       ".xr-obj-type,\n",
       ".xr-array-name {\n",
       "  margin-left: 2px;\n",
       "  margin-right: 10px;\n",
       "}\n",
       "\n",
       ".xr-obj-type {\n",
       "  color: var(--xr-font-color2);\n",
       "}\n",
       "\n",
       ".xr-sections {\n",
       "  padding-left: 0 !important;\n",
       "  display: grid;\n",
       "  grid-template-columns: 150px auto auto 1fr 20px 20px;\n",
       "}\n",
       "\n",
       ".xr-section-item {\n",
       "  display: contents;\n",
       "}\n",
       "\n",
       ".xr-section-item input {\n",
       "  display: none;\n",
       "}\n",
       "\n",
       ".xr-section-item input + label {\n",
       "  color: var(--xr-disabled-color);\n",
       "}\n",
       "\n",
       ".xr-section-item input:enabled + label {\n",
       "  cursor: pointer;\n",
       "  color: var(--xr-font-color2);\n",
       "}\n",
       "\n",
       ".xr-section-item input:enabled + label:hover {\n",
       "  color: var(--xr-font-color0);\n",
       "}\n",
       "\n",
       ".xr-section-summary {\n",
       "  grid-column: 1;\n",
       "  color: var(--xr-font-color2);\n",
       "  font-weight: 500;\n",
       "}\n",
       "\n",
       ".xr-section-summary > span {\n",
       "  display: inline-block;\n",
       "  padding-left: 0.5em;\n",
       "}\n",
       "\n",
       ".xr-section-summary-in:disabled + label {\n",
       "  color: var(--xr-font-color2);\n",
       "}\n",
       "\n",
       ".xr-section-summary-in + label:before {\n",
       "  display: inline-block;\n",
       "  content: '►';\n",
       "  font-size: 11px;\n",
       "  width: 15px;\n",
       "  text-align: center;\n",
       "}\n",
       "\n",
       ".xr-section-summary-in:disabled + label:before {\n",
       "  color: var(--xr-disabled-color);\n",
       "}\n",
       "\n",
       ".xr-section-summary-in:checked + label:before {\n",
       "  content: '▼';\n",
       "}\n",
       "\n",
       ".xr-section-summary-in:checked + label > span {\n",
       "  display: none;\n",
       "}\n",
       "\n",
       ".xr-section-summary,\n",
       ".xr-section-inline-details {\n",
       "  padding-top: 4px;\n",
       "  padding-bottom: 4px;\n",
       "}\n",
       "\n",
       ".xr-section-inline-details {\n",
       "  grid-column: 2 / -1;\n",
       "}\n",
       "\n",
       ".xr-section-details {\n",
       "  display: none;\n",
       "  grid-column: 1 / -1;\n",
       "  margin-bottom: 5px;\n",
       "}\n",
       "\n",
       ".xr-section-summary-in:checked ~ .xr-section-details {\n",
       "  display: contents;\n",
       "}\n",
       "\n",
       ".xr-array-wrap {\n",
       "  grid-column: 1 / -1;\n",
       "  display: grid;\n",
       "  grid-template-columns: 20px auto;\n",
       "}\n",
       "\n",
       ".xr-array-wrap > label {\n",
       "  grid-column: 1;\n",
       "  vertical-align: top;\n",
       "}\n",
       "\n",
       ".xr-preview {\n",
       "  color: var(--xr-font-color3);\n",
       "}\n",
       "\n",
       ".xr-array-preview,\n",
       ".xr-array-data {\n",
       "  padding: 0 5px !important;\n",
       "  grid-column: 2;\n",
       "}\n",
       "\n",
       ".xr-array-data,\n",
       ".xr-array-in:checked ~ .xr-array-preview {\n",
       "  display: none;\n",
       "}\n",
       "\n",
       ".xr-array-in:checked ~ .xr-array-data,\n",
       ".xr-array-preview {\n",
       "  display: inline-block;\n",
       "}\n",
       "\n",
       ".xr-dim-list {\n",
       "  display: inline-block !important;\n",
       "  list-style: none;\n",
       "  padding: 0 !important;\n",
       "  margin: 0;\n",
       "}\n",
       "\n",
       ".xr-dim-list li {\n",
       "  display: inline-block;\n",
       "  padding: 0;\n",
       "  margin: 0;\n",
       "}\n",
       "\n",
       ".xr-dim-list:before {\n",
       "  content: '(';\n",
       "}\n",
       "\n",
       ".xr-dim-list:after {\n",
       "  content: ')';\n",
       "}\n",
       "\n",
       ".xr-dim-list li:not(:last-child):after {\n",
       "  content: ',';\n",
       "  padding-right: 5px;\n",
       "}\n",
       "\n",
       ".xr-has-index {\n",
       "  font-weight: bold;\n",
       "}\n",
       "\n",
       ".xr-var-list,\n",
       ".xr-var-item {\n",
       "  display: contents;\n",
       "}\n",
       "\n",
       ".xr-var-item > div,\n",
       ".xr-var-item label,\n",
       ".xr-var-item > .xr-var-name span {\n",
       "  background-color: var(--xr-background-color-row-even);\n",
       "  margin-bottom: 0;\n",
       "}\n",
       "\n",
       ".xr-var-item > .xr-var-name:hover span {\n",
       "  padding-right: 5px;\n",
       "}\n",
       "\n",
       ".xr-var-list > li:nth-child(odd) > div,\n",
       ".xr-var-list > li:nth-child(odd) > label,\n",
       ".xr-var-list > li:nth-child(odd) > .xr-var-name span {\n",
       "  background-color: var(--xr-background-color-row-odd);\n",
       "}\n",
       "\n",
       ".xr-var-name {\n",
       "  grid-column: 1;\n",
       "}\n",
       "\n",
       ".xr-var-dims {\n",
       "  grid-column: 2;\n",
       "}\n",
       "\n",
       ".xr-var-dtype {\n",
       "  grid-column: 3;\n",
       "  text-align: right;\n",
       "  color: var(--xr-font-color2);\n",
       "}\n",
       "\n",
       ".xr-var-preview {\n",
       "  grid-column: 4;\n",
       "}\n",
       "\n",
       ".xr-index-preview {\n",
       "  grid-column: 2 / 5;\n",
       "  color: var(--xr-font-color2);\n",
       "}\n",
       "\n",
       ".xr-var-name,\n",
       ".xr-var-dims,\n",
       ".xr-var-dtype,\n",
       ".xr-preview,\n",
       ".xr-attrs dt {\n",
       "  white-space: nowrap;\n",
       "  overflow: hidden;\n",
       "  text-overflow: ellipsis;\n",
       "  padding-right: 10px;\n",
       "}\n",
       "\n",
       ".xr-var-name:hover,\n",
       ".xr-var-dims:hover,\n",
       ".xr-var-dtype:hover,\n",
       ".xr-attrs dt:hover {\n",
       "  overflow: visible;\n",
       "  width: auto;\n",
       "  z-index: 1;\n",
       "}\n",
       "\n",
       ".xr-var-attrs,\n",
       ".xr-var-data,\n",
       ".xr-index-data {\n",
       "  display: none;\n",
       "  background-color: var(--xr-background-color) !important;\n",
       "  padding-bottom: 5px !important;\n",
       "}\n",
       "\n",
       ".xr-var-attrs-in:checked ~ .xr-var-attrs,\n",
       ".xr-var-data-in:checked ~ .xr-var-data,\n",
       ".xr-index-data-in:checked ~ .xr-index-data {\n",
       "  display: block;\n",
       "}\n",
       "\n",
       ".xr-var-data > table {\n",
       "  float: right;\n",
       "}\n",
       "\n",
       ".xr-var-name span,\n",
       ".xr-var-data,\n",
       ".xr-index-name div,\n",
       ".xr-index-data,\n",
       ".xr-attrs {\n",
       "  padding-left: 25px !important;\n",
       "}\n",
       "\n",
       ".xr-attrs,\n",
       ".xr-var-attrs,\n",
       ".xr-var-data,\n",
       ".xr-index-data {\n",
       "  grid-column: 1 / -1;\n",
       "}\n",
       "\n",
       "dl.xr-attrs {\n",
       "  padding: 0;\n",
       "  margin: 0;\n",
       "  display: grid;\n",
       "  grid-template-columns: 125px auto;\n",
       "}\n",
       "\n",
       ".xr-attrs dt,\n",
       ".xr-attrs dd {\n",
       "  padding: 0;\n",
       "  margin: 0;\n",
       "  float: left;\n",
       "  padding-right: 10px;\n",
       "  width: auto;\n",
       "}\n",
       "\n",
       ".xr-attrs dt {\n",
       "  font-weight: normal;\n",
       "  grid-column: 1;\n",
       "}\n",
       "\n",
       ".xr-attrs dt:hover span {\n",
       "  display: inline-block;\n",
       "  background: var(--xr-background-color);\n",
       "  padding-right: 10px;\n",
       "}\n",
       "\n",
       ".xr-attrs dd {\n",
       "  grid-column: 2;\n",
       "  white-space: pre-wrap;\n",
       "  word-break: break-all;\n",
       "}\n",
       "\n",
       ".xr-icon-database,\n",
       ".xr-icon-file-text2,\n",
       ".xr-no-icon {\n",
       "  display: inline-block;\n",
       "  vertical-align: middle;\n",
       "  width: 1em;\n",
       "  height: 1.5em !important;\n",
       "  stroke-width: 0;\n",
       "  stroke: currentColor;\n",
       "  fill: currentColor;\n",
       "}\n",
       "</style><pre class='xr-text-repr-fallback'>&lt;xarray.Dataset&gt;\n",
       "Dimensions:    (longitude: 101, latitude: 121, time: 348)\n",
       "Coordinates:\n",
       "  * longitude  (longitude) float32 -135.0 -134.8 -134.5 ... -110.5 -110.2 -110.0\n",
       "  * latitude   (latitude) float32 50.0 49.75 49.5 49.25 ... 20.5 20.25 20.0\n",
       "  * time       (time) datetime64[ns] 1992-01-01 1992-02-01 ... 2020-12-01\n",
       "Data variables:\n",
       "    lsm        (time, latitude, longitude) float32 ...\n",
       "    tcrw       (time, latitude, longitude) float32 ...\n",
       "    tcwv       (time, latitude, longitude) float32 ...\n",
       "    tp         (time, latitude, longitude) float32 ...\n",
       "Attributes:\n",
       "    Conventions:  CF-1.6\n",
       "    history:      2022-12-27 00:23:10 GMT by grib_to_netcdf-2.25.1: /opt/ecmw...</pre><div class='xr-wrap' style='display:none'><div class='xr-header'><div class='xr-obj-type'>xarray.Dataset</div></div><ul class='xr-sections'><li class='xr-section-item'><input id='section-0760f13e-906c-4f66-aa7a-d5218a282980' class='xr-section-summary-in' type='checkbox' disabled ><label for='section-0760f13e-906c-4f66-aa7a-d5218a282980' class='xr-section-summary'  title='Expand/collapse section'>Dimensions:</label><div class='xr-section-inline-details'><ul class='xr-dim-list'><li><span class='xr-has-index'>longitude</span>: 101</li><li><span class='xr-has-index'>latitude</span>: 121</li><li><span class='xr-has-index'>time</span>: 348</li></ul></div><div class='xr-section-details'></div></li><li class='xr-section-item'><input id='section-915556c7-6b2f-4eb1-b058-50f0c2f54c7f' class='xr-section-summary-in' type='checkbox'  checked><label for='section-915556c7-6b2f-4eb1-b058-50f0c2f54c7f' class='xr-section-summary' >Coordinates: <span>(3)</span></label><div class='xr-section-inline-details'></div><div class='xr-section-details'><ul class='xr-var-list'><li class='xr-var-item'><div class='xr-var-name'><span class='xr-has-index'>longitude</span></div><div class='xr-var-dims'>(longitude)</div><div class='xr-var-dtype'>float32</div><div class='xr-var-preview xr-preview'>-135.0 -134.8 ... -110.2 -110.0</div><input id='attrs-b6d6fbab-6434-4c8f-8b0d-196ff5f8bfa3' class='xr-var-attrs-in' type='checkbox' ><label for='attrs-b6d6fbab-6434-4c8f-8b0d-196ff5f8bfa3' title='Show/Hide attributes'><svg class='icon xr-icon-file-text2'><use xlink:href='#icon-file-text2'></use></svg></label><input id='data-0f543e35-4bb3-485a-95e5-2a7f4e39cca8' class='xr-var-data-in' type='checkbox'><label for='data-0f543e35-4bb3-485a-95e5-2a7f4e39cca8' title='Show/Hide data repr'><svg class='icon xr-icon-database'><use xlink:href='#icon-database'></use></svg></label><div class='xr-var-attrs'><dl class='xr-attrs'><dt><span>units :</span></dt><dd>degrees_east</dd><dt><span>long_name :</span></dt><dd>longitude</dd></dl></div><div class='xr-var-data'><pre>array([-135.  , -134.75, -134.5 , -134.25, -134.  , -133.75, -133.5 , -133.25,\n",
       "       -133.  , -132.75, -132.5 , -132.25, -132.  , -131.75, -131.5 , -131.25,\n",
       "       -131.  , -130.75, -130.5 , -130.25, -130.  , -129.75, -129.5 , -129.25,\n",
       "       -129.  , -128.75, -128.5 , -128.25, -128.  , -127.75, -127.5 , -127.25,\n",
       "       -127.  , -126.75, -126.5 , -126.25, -126.  , -125.75, -125.5 , -125.25,\n",
       "       -125.  , -124.75, -124.5 , -124.25, -124.  , -123.75, -123.5 , -123.25,\n",
       "       -123.  , -122.75, -122.5 , -122.25, -122.  , -121.75, -121.5 , -121.25,\n",
       "       -121.  , -120.75, -120.5 , -120.25, -120.  , -119.75, -119.5 , -119.25,\n",
       "       -119.  , -118.75, -118.5 , -118.25, -118.  , -117.75, -117.5 , -117.25,\n",
       "       -117.  , -116.75, -116.5 , -116.25, -116.  , -115.75, -115.5 , -115.25,\n",
       "       -115.  , -114.75, -114.5 , -114.25, -114.  , -113.75, -113.5 , -113.25,\n",
       "       -113.  , -112.75, -112.5 , -112.25, -112.  , -111.75, -111.5 , -111.25,\n",
       "       -111.  , -110.75, -110.5 , -110.25, -110.  ], dtype=float32)</pre></div></li><li class='xr-var-item'><div class='xr-var-name'><span class='xr-has-index'>latitude</span></div><div class='xr-var-dims'>(latitude)</div><div class='xr-var-dtype'>float32</div><div class='xr-var-preview xr-preview'>50.0 49.75 49.5 ... 20.5 20.25 20.0</div><input id='attrs-f1a51d27-d5a7-49e0-b28a-e67e9d08df12' class='xr-var-attrs-in' type='checkbox' ><label for='attrs-f1a51d27-d5a7-49e0-b28a-e67e9d08df12' title='Show/Hide attributes'><svg class='icon xr-icon-file-text2'><use xlink:href='#icon-file-text2'></use></svg></label><input id='data-db4e92f8-e843-4cff-a74c-3c65d09c06bf' class='xr-var-data-in' type='checkbox'><label for='data-db4e92f8-e843-4cff-a74c-3c65d09c06bf' title='Show/Hide data repr'><svg class='icon xr-icon-database'><use xlink:href='#icon-database'></use></svg></label><div class='xr-var-attrs'><dl class='xr-attrs'><dt><span>units :</span></dt><dd>degrees_north</dd><dt><span>long_name :</span></dt><dd>latitude</dd></dl></div><div class='xr-var-data'><pre>array([50.  , 49.75, 49.5 , 49.25, 49.  , 48.75, 48.5 , 48.25, 48.  , 47.75,\n",
       "       47.5 , 47.25, 47.  , 46.75, 46.5 , 46.25, 46.  , 45.75, 45.5 , 45.25,\n",
       "       45.  , 44.75, 44.5 , 44.25, 44.  , 43.75, 43.5 , 43.25, 43.  , 42.75,\n",
       "       42.5 , 42.25, 42.  , 41.75, 41.5 , 41.25, 41.  , 40.75, 40.5 , 40.25,\n",
       "       40.  , 39.75, 39.5 , 39.25, 39.  , 38.75, 38.5 , 38.25, 38.  , 37.75,\n",
       "       37.5 , 37.25, 37.  , 36.75, 36.5 , 36.25, 36.  , 35.75, 35.5 , 35.25,\n",
       "       35.  , 34.75, 34.5 , 34.25, 34.  , 33.75, 33.5 , 33.25, 33.  , 32.75,\n",
       "       32.5 , 32.25, 32.  , 31.75, 31.5 , 31.25, 31.  , 30.75, 30.5 , 30.25,\n",
       "       30.  , 29.75, 29.5 , 29.25, 29.  , 28.75, 28.5 , 28.25, 28.  , 27.75,\n",
       "       27.5 , 27.25, 27.  , 26.75, 26.5 , 26.25, 26.  , 25.75, 25.5 , 25.25,\n",
       "       25.  , 24.75, 24.5 , 24.25, 24.  , 23.75, 23.5 , 23.25, 23.  , 22.75,\n",
       "       22.5 , 22.25, 22.  , 21.75, 21.5 , 21.25, 21.  , 20.75, 20.5 , 20.25,\n",
       "       20.  ], dtype=float32)</pre></div></li><li class='xr-var-item'><div class='xr-var-name'><span class='xr-has-index'>time</span></div><div class='xr-var-dims'>(time)</div><div class='xr-var-dtype'>datetime64[ns]</div><div class='xr-var-preview xr-preview'>1992-01-01 ... 2020-12-01</div><input id='attrs-34052fe3-82db-44c5-b299-b07c002bf686' class='xr-var-attrs-in' type='checkbox' ><label for='attrs-34052fe3-82db-44c5-b299-b07c002bf686' title='Show/Hide attributes'><svg class='icon xr-icon-file-text2'><use xlink:href='#icon-file-text2'></use></svg></label><input id='data-b6f4c4fe-c431-4f52-a423-eef14fe3f219' class='xr-var-data-in' type='checkbox'><label for='data-b6f4c4fe-c431-4f52-a423-eef14fe3f219' title='Show/Hide data repr'><svg class='icon xr-icon-database'><use xlink:href='#icon-database'></use></svg></label><div class='xr-var-attrs'><dl class='xr-attrs'><dt><span>long_name :</span></dt><dd>time</dd></dl></div><div class='xr-var-data'><pre>array([&#x27;1992-01-01T00:00:00.000000000&#x27;, &#x27;1992-02-01T00:00:00.000000000&#x27;,\n",
       "       &#x27;1992-03-01T00:00:00.000000000&#x27;, ..., &#x27;2020-10-01T00:00:00.000000000&#x27;,\n",
       "       &#x27;2020-11-01T00:00:00.000000000&#x27;, &#x27;2020-12-01T00:00:00.000000000&#x27;],\n",
       "      dtype=&#x27;datetime64[ns]&#x27;)</pre></div></li></ul></div></li><li class='xr-section-item'><input id='section-f2fecf1d-8df9-42e3-9058-b6d4c8450be8' class='xr-section-summary-in' type='checkbox'  checked><label for='section-f2fecf1d-8df9-42e3-9058-b6d4c8450be8' class='xr-section-summary' >Data variables: <span>(4)</span></label><div class='xr-section-inline-details'></div><div class='xr-section-details'><ul class='xr-var-list'><li class='xr-var-item'><div class='xr-var-name'><span>lsm</span></div><div class='xr-var-dims'>(time, latitude, longitude)</div><div class='xr-var-dtype'>float32</div><div class='xr-var-preview xr-preview'>...</div><input id='attrs-1a09171c-7ca4-463f-a860-34e236f5d325' class='xr-var-attrs-in' type='checkbox' ><label for='attrs-1a09171c-7ca4-463f-a860-34e236f5d325' title='Show/Hide attributes'><svg class='icon xr-icon-file-text2'><use xlink:href='#icon-file-text2'></use></svg></label><input id='data-dc9e0c9f-8bf7-4230-a6a6-ed3524624cf4' class='xr-var-data-in' type='checkbox'><label for='data-dc9e0c9f-8bf7-4230-a6a6-ed3524624cf4' title='Show/Hide data repr'><svg class='icon xr-icon-database'><use xlink:href='#icon-database'></use></svg></label><div class='xr-var-attrs'><dl class='xr-attrs'><dt><span>units :</span></dt><dd>(0 - 1)</dd><dt><span>long_name :</span></dt><dd>Land-sea mask</dd><dt><span>standard_name :</span></dt><dd>land_binary_mask</dd></dl></div><div class='xr-var-data'><pre>[4252908 values with dtype=float32]</pre></div></li><li class='xr-var-item'><div class='xr-var-name'><span>tcrw</span></div><div class='xr-var-dims'>(time, latitude, longitude)</div><div class='xr-var-dtype'>float32</div><div class='xr-var-preview xr-preview'>...</div><input id='attrs-d1f66e41-ea21-49bc-9ec5-50c7d75b90b4' class='xr-var-attrs-in' type='checkbox' ><label for='attrs-d1f66e41-ea21-49bc-9ec5-50c7d75b90b4' title='Show/Hide attributes'><svg class='icon xr-icon-file-text2'><use xlink:href='#icon-file-text2'></use></svg></label><input id='data-f69adb6b-ad26-4527-befd-cc20eec8cc86' class='xr-var-data-in' type='checkbox'><label for='data-f69adb6b-ad26-4527-befd-cc20eec8cc86' title='Show/Hide data repr'><svg class='icon xr-icon-database'><use xlink:href='#icon-database'></use></svg></label><div class='xr-var-attrs'><dl class='xr-attrs'><dt><span>units :</span></dt><dd>kg m**-2</dd><dt><span>long_name :</span></dt><dd>Total column rain water</dd></dl></div><div class='xr-var-data'><pre>[4252908 values with dtype=float32]</pre></div></li><li class='xr-var-item'><div class='xr-var-name'><span>tcwv</span></div><div class='xr-var-dims'>(time, latitude, longitude)</div><div class='xr-var-dtype'>float32</div><div class='xr-var-preview xr-preview'>...</div><input id='attrs-4ebf3501-a9d7-4263-a72e-f93552cafa00' class='xr-var-attrs-in' type='checkbox' ><label for='attrs-4ebf3501-a9d7-4263-a72e-f93552cafa00' title='Show/Hide attributes'><svg class='icon xr-icon-file-text2'><use xlink:href='#icon-file-text2'></use></svg></label><input id='data-daf11f61-a92a-4188-861e-537e0563d102' class='xr-var-data-in' type='checkbox'><label for='data-daf11f61-a92a-4188-861e-537e0563d102' title='Show/Hide data repr'><svg class='icon xr-icon-database'><use xlink:href='#icon-database'></use></svg></label><div class='xr-var-attrs'><dl class='xr-attrs'><dt><span>units :</span></dt><dd>kg m**-2</dd><dt><span>long_name :</span></dt><dd>Total column vertically-integrated water vapour</dd><dt><span>standard_name :</span></dt><dd>lwe_thickness_of_atmosphere_mass_content_of_water_vapor</dd></dl></div><div class='xr-var-data'><pre>[4252908 values with dtype=float32]</pre></div></li><li class='xr-var-item'><div class='xr-var-name'><span>tp</span></div><div class='xr-var-dims'>(time, latitude, longitude)</div><div class='xr-var-dtype'>float32</div><div class='xr-var-preview xr-preview'>...</div><input id='attrs-444389a0-925f-4506-8da2-25bc96cd06a4' class='xr-var-attrs-in' type='checkbox' ><label for='attrs-444389a0-925f-4506-8da2-25bc96cd06a4' title='Show/Hide attributes'><svg class='icon xr-icon-file-text2'><use xlink:href='#icon-file-text2'></use></svg></label><input id='data-b615bf2c-0e34-40d6-bf96-75907f0b08cb' class='xr-var-data-in' type='checkbox'><label for='data-b615bf2c-0e34-40d6-bf96-75907f0b08cb' title='Show/Hide data repr'><svg class='icon xr-icon-database'><use xlink:href='#icon-database'></use></svg></label><div class='xr-var-attrs'><dl class='xr-attrs'><dt><span>units :</span></dt><dd>m</dd><dt><span>long_name :</span></dt><dd>Total precipitation</dd></dl></div><div class='xr-var-data'><pre>[4252908 values with dtype=float32]</pre></div></li></ul></div></li><li class='xr-section-item'><input id='section-6bfeab30-41c6-4507-a04b-7306265d1569' class='xr-section-summary-in' type='checkbox'  ><label for='section-6bfeab30-41c6-4507-a04b-7306265d1569' class='xr-section-summary' >Indexes: <span>(3)</span></label><div class='xr-section-inline-details'></div><div class='xr-section-details'><ul class='xr-var-list'><li class='xr-var-item'><div class='xr-index-name'><div>longitude</div></div><div class='xr-index-preview'>PandasIndex</div><div></div><input id='index-7a159749-e2aa-4291-bbed-059aed1ac32f' class='xr-index-data-in' type='checkbox'/><label for='index-7a159749-e2aa-4291-bbed-059aed1ac32f' title='Show/Hide index repr'><svg class='icon xr-icon-database'><use xlink:href='#icon-database'></use></svg></label><div class='xr-index-data'><pre>PandasIndex(Float64Index([ -135.0, -134.75,  -134.5, -134.25,  -134.0, -133.75,  -133.5,\n",
       "              -133.25,  -133.0, -132.75,\n",
       "              ...\n",
       "              -112.25,  -112.0, -111.75,  -111.5, -111.25,  -111.0, -110.75,\n",
       "               -110.5, -110.25,  -110.0],\n",
       "             dtype=&#x27;float64&#x27;, name=&#x27;longitude&#x27;, length=101))</pre></div></li><li class='xr-var-item'><div class='xr-index-name'><div>latitude</div></div><div class='xr-index-preview'>PandasIndex</div><div></div><input id='index-19ce3f32-4163-47e4-94ea-c9fd2eedefe1' class='xr-index-data-in' type='checkbox'/><label for='index-19ce3f32-4163-47e4-94ea-c9fd2eedefe1' title='Show/Hide index repr'><svg class='icon xr-icon-database'><use xlink:href='#icon-database'></use></svg></label><div class='xr-index-data'><pre>PandasIndex(Float64Index([ 50.0, 49.75,  49.5, 49.25,  49.0, 48.75,  48.5, 48.25,  48.0,\n",
       "              47.75,\n",
       "              ...\n",
       "              22.25,  22.0, 21.75,  21.5, 21.25,  21.0, 20.75,  20.5, 20.25,\n",
       "               20.0],\n",
       "             dtype=&#x27;float64&#x27;, name=&#x27;latitude&#x27;, length=121))</pre></div></li><li class='xr-var-item'><div class='xr-index-name'><div>time</div></div><div class='xr-index-preview'>PandasIndex</div><div></div><input id='index-3af10cb1-c927-451d-80ee-7cba23777b10' class='xr-index-data-in' type='checkbox'/><label for='index-3af10cb1-c927-451d-80ee-7cba23777b10' title='Show/Hide index repr'><svg class='icon xr-icon-database'><use xlink:href='#icon-database'></use></svg></label><div class='xr-index-data'><pre>PandasIndex(DatetimeIndex([&#x27;1992-01-01&#x27;, &#x27;1992-02-01&#x27;, &#x27;1992-03-01&#x27;, &#x27;1992-04-01&#x27;,\n",
       "               &#x27;1992-05-01&#x27;, &#x27;1992-06-01&#x27;, &#x27;1992-07-01&#x27;, &#x27;1992-08-01&#x27;,\n",
       "               &#x27;1992-09-01&#x27;, &#x27;1992-10-01&#x27;,\n",
       "               ...\n",
       "               &#x27;2020-03-01&#x27;, &#x27;2020-04-01&#x27;, &#x27;2020-05-01&#x27;, &#x27;2020-06-01&#x27;,\n",
       "               &#x27;2020-07-01&#x27;, &#x27;2020-08-01&#x27;, &#x27;2020-09-01&#x27;, &#x27;2020-10-01&#x27;,\n",
       "               &#x27;2020-11-01&#x27;, &#x27;2020-12-01&#x27;],\n",
       "              dtype=&#x27;datetime64[ns]&#x27;, name=&#x27;time&#x27;, length=348, freq=None))</pre></div></li></ul></div></li><li class='xr-section-item'><input id='section-8d4c0d52-fbd3-4ff1-bef3-1795a2d827d4' class='xr-section-summary-in' type='checkbox'  checked><label for='section-8d4c0d52-fbd3-4ff1-bef3-1795a2d827d4' class='xr-section-summary' >Attributes: <span>(2)</span></label><div class='xr-section-inline-details'></div><div class='xr-section-details'><dl class='xr-attrs'><dt><span>Conventions :</span></dt><dd>CF-1.6</dd><dt><span>history :</span></dt><dd>2022-12-27 00:23:10 GMT by grib_to_netcdf-2.25.1: /opt/ecmwf/mars-client/bin/grib_to_netcdf.bin -S param -o /cache/data8/adaptor.mars.internal-1672100589.9831204-19710-8-81b56d99-8ad0-46e4-a03d-f14db8f1b0cd.nc /cache/tmp/81b56d99-8ad0-46e4-a03d-f14db8f1b0cd-adaptor.mars.internal-1672100583.8514445-19710-13-tmp.grib</dd></dl></div></li></ul></div></div>"
      ],
      "text/plain": [
       "<xarray.Dataset>\n",
       "Dimensions:    (longitude: 101, latitude: 121, time: 348)\n",
       "Coordinates:\n",
       "  * longitude  (longitude) float32 -135.0 -134.8 -134.5 ... -110.5 -110.2 -110.0\n",
       "  * latitude   (latitude) float32 50.0 49.75 49.5 49.25 ... 20.5 20.25 20.0\n",
       "  * time       (time) datetime64[ns] 1992-01-01 1992-02-01 ... 2020-12-01\n",
       "Data variables:\n",
       "    lsm        (time, latitude, longitude) float32 ...\n",
       "    tcrw       (time, latitude, longitude) float32 ...\n",
       "    tcwv       (time, latitude, longitude) float32 ...\n",
       "    tp         (time, latitude, longitude) float32 ...\n",
       "Attributes:\n",
       "    Conventions:  CF-1.6\n",
       "    history:      2022-12-27 00:23:10 GMT by grib_to_netcdf-2.25.1: /opt/ecmw..."
      ]
     },
     "execution_count": 22,
     "metadata": {},
     "output_type": "execute_result"
    }
   ],
   "source": [
    "ds = xr.open_dataset(\"../ERA5_data/ERA5_monthly.nc\")\n",
    "ds"
   ]
  },
  {
   "cell_type": "code",
   "execution_count": 20,
   "id": "5b6add77-7f65-4231-9889-7b409b029113",
   "metadata": {},
   "outputs": [
    {
     "name": "stderr",
     "output_type": "stream",
     "text": [
      "rm: cannot remove ‘download*’: No such file or directory\n"
     ]
    },
    {
     "data": {
      "text/plain": [
       "256"
      ]
     },
     "execution_count": 20,
     "metadata": {},
     "output_type": "execute_result"
    }
   ],
   "source": [
    "import os\n",
    "os.system('rm download*')"
   ]
  }
 ],
 "metadata": {
  "kernelspec": {
   "display_name": "notebook_env",
   "language": "python",
   "name": "notebook_env"
  },
  "language_info": {
   "codemirror_mode": {
    "name": "ipython",
    "version": 3
   },
   "file_extension": ".py",
   "mimetype": "text/x-python",
   "name": "python",
   "nbconvert_exporter": "python",
   "pygments_lexer": "ipython3",
   "version": "3.10.8"
  }
 },
 "nbformat": 4,
 "nbformat_minor": 5
}

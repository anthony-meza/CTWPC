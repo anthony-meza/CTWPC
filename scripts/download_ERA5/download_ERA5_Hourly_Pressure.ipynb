{
 "cells": [
  {
   "cell_type": "code",
   "execution_count": 1,
   "id": "f2ef01af-5454-499d-8708-4417f3826cb0",
   "metadata": {},
   "outputs": [],
   "source": [
    "import os\n",
    "os.chdir('/vortexfs1/home/anthony.meza/Atmospheric Rivers and Waves')\n",
    "main_dir = os.getcwd()"
   ]
  },
  {
   "cell_type": "code",
   "execution_count": 2,
   "id": "c6be779b",
   "metadata": {},
   "outputs": [],
   "source": [
    "# from eofs.xarray import Eof\n",
    "import importlib\n",
    "import xarray as xr\n",
    "# importlib.reload(xr)\n",
    "import netCDF4 as nc\n",
    "from pathlib import Path\n",
    "from natsort import natsorted\n",
    "import dask.array as da"
   ]
  },
  {
   "cell_type": "code",
   "execution_count": 3,
   "id": "5a0b1fd4-9c0b-464c-8c0f-5cb8eb4ed231",
   "metadata": {},
   "outputs": [],
   "source": [
    "import cdsapi\n",
    "c = cdsapi.Client()"
   ]
  },
  {
   "cell_type": "code",
   "execution_count": 4,
   "id": "3136983d-5ee8-439b-8969-1b9c934437db",
   "metadata": {},
   "outputs": [],
   "source": [
    "def accessERA5(c, year, savepath): \n",
    "    c.retrieve(\n",
    "        'reanalysis-era5-pressure-levels',\n",
    "        {\n",
    "            'product_type': 'reanalysis',\n",
    "            'format': 'netcdf',\n",
    "            'pressure_level': [\n",
    "                '500', '850', '1000',\n",
    "            ],\n",
    "            'time': [\n",
    "                '00:00', '01:00', '02:00',\n",
    "                '03:00', '04:00', '05:00',\n",
    "                '06:00', '07:00', '08:00',\n",
    "                '09:00', '10:00', '11:00',\n",
    "                '12:00', '13:00', '14:00',\n",
    "                '15:00', '16:00', '17:00',\n",
    "                '18:00', '19:00', '20:00',\n",
    "                '21:00', '22:00', '23:00',\n",
    "            ],\n",
    "            'day': [\n",
    "                '01', '02', '03',\n",
    "                '04', '05', '06',\n",
    "                '07', '08', '09',\n",
    "                '10', '11', '12',\n",
    "                '13', '14', '15',\n",
    "                '16', '17', '18',\n",
    "                '19', '20', '21',\n",
    "                '22', '23', '24',\n",
    "                '25', '26', '27',\n",
    "                '28', '29', '30',\n",
    "                '31',\n",
    "            ],\n",
    "            'month': [\n",
    "            '01', '02', '03',\n",
    "            '04', '05', '06',\n",
    "            '07', '08', '09',\n",
    "            '10', '11', '12',\n",
    "            ],\n",
    "            'area': [\n",
    "                60, -150, -5,\n",
    "                -75,\n",
    "            ],\n",
    "            'year': str(year),\n",
    "            'variable': 'geopotential',\n",
    "        },\n",
    "        savepath)"
   ]
  },
  {
   "cell_type": "code",
   "execution_count": null,
   "id": "7455b234-5cbe-4fe3-8618-3d870167ff53",
   "metadata": {},
   "outputs": [
    {
     "name": "stderr",
     "output_type": "stream",
     "text": [
      "2023-03-14 11:56:05,494 INFO Welcome to the CDS\n",
      "2023-03-14 11:56:05,495 INFO Sending request to https://cds.climate.copernicus.eu/api/v2/resources/reanalysis-era5-pressure-levels\n",
      "2023-03-14 11:56:05,821 INFO Request is completed\n",
      "2023-03-14 11:56:05,822 INFO Downloading https://download-0005-clone.copernicus-climate.eu/cache-compute-0005/cache/data8/adaptor.mars.internal-1678798688.096254-19169-20-ef353a7b-92ea-457b-a7ff-1c15e041548a.nc to /vortexfs1/home/anthony.meza/Atmospheric Rivers and Waves/ERA5_data/ERA5_2010_PressureLevels.nc (3.8G)\n",
      " 25%|██▍       | 979M/3.85G [03:36<05:20, 9.67MB/s]  "
     ]
    }
   ],
   "source": [
    "import cdsapi\n",
    "c = cdsapi.Client(wait_until_complete = True)\n",
    "for year in range(2010, 2021):\n",
    "    savepath = main_dir + '/ERA5_data/ERA5_' + str(year) + '_PressureLevels.nc'\n",
    "    #should add check \n",
    "    accessERA5(c, year, savepath)"
   ]
  },
  {
   "cell_type": "code",
   "execution_count": null,
   "id": "25defe93-e865-42ca-9d86-be10067f2743",
   "metadata": {},
   "outputs": [],
   "source": []
  }
 ],
 "metadata": {
  "kernelspec": {
   "display_name": "notebook_env",
   "language": "python",
   "name": "notebook_env"
  },
  "language_info": {
   "codemirror_mode": {
    "name": "ipython",
    "version": 3
   },
   "file_extension": ".py",
   "mimetype": "text/x-python",
   "name": "python",
   "nbconvert_exporter": "python",
   "pygments_lexer": "ipython3",
   "version": "3.10.8"
  }
 },
 "nbformat": 4,
 "nbformat_minor": 5
}

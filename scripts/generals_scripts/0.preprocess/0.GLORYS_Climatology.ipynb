{
 "cells": [
  {
   "attachments": {},
   "cell_type": "markdown",
   "id": "0f0f1a51-ad0f-4694-9e19-44016f728430",
   "metadata": {},
   "source": [
    "#### This notebook takes raw GLORYS data and performs the following operations using Dask: \n",
    "1. Concatenate the disjointed GLORYS files over some region \n",
    "2. Saves the concatenated data \n",
    "3. Uses concatenated data to compute a daily climatology \n"
   ]
  },
  {
   "cell_type": "code",
   "execution_count": 1,
   "id": "b2669743-66c8-426d-a957-9cfd6d15d446",
   "metadata": {
    "tags": []
   },
   "outputs": [],
   "source": [
    "import os, gc; from os.path import exists\n",
    "os.chdir('/vortexfs1/home/anthony.meza/CTWPC/scripts')\n",
    "main_dir = \"/vortexfs1/home/anthony.meza/CTWPC\"\n",
    "plotsdir = lambda x=\"\": main_dir + \"/plots/\" + x\n",
    "GLORYS_dir = lambda x=\"\": main_dir + \"/GLORYS_data\" + x\n",
    "GLORYS_data_dir = lambda x=\"\": main_dir + \"/GLORYS_processed/\" + x\n",
    "ERA5_data_dir = lambda x=\"\": main_dir + \"/ERA5_data/\" + x"
   ]
  },
  {
   "cell_type": "code",
   "execution_count": 2,
   "id": "c6be779b",
   "metadata": {
    "tags": []
   },
   "outputs": [],
   "source": [
    "from help_funcs import * \n",
    "import xarray as xr\n",
    "import pandas as pd\n",
    "import netCDF4 as nc\n",
    "from pathlib import Path\n",
    "from natsort import natsorted\n",
    "import matplotlib.pyplot as plt\n",
    "import dask_labextension"
   ]
  },
  {
   "cell_type": "code",
   "execution_count": 3,
   "id": "5e992700-63e1-45fc-9406-7c8e0dd42056",
   "metadata": {
    "tags": []
   },
   "outputs": [
    {
     "name": "stdout",
     "output_type": "stream",
     "text": [
      "#!/usr/bin/env bash\n",
      "\n",
      "#SBATCH -J dask-worker\n",
      "#SBATCH -p compute\n",
      "#SBATCH -n 1\n",
      "#SBATCH --cpus-per-task=36\n",
      "#SBATCH --mem=179G\n",
      "#SBATCH -t 02:00:00\n",
      "\n",
      "/vortexfs1/home/anthony.meza/mambaforge/envs/atm_rivers/bin/python -m distributed.cli.dask_worker tcp://172.16.3.106:43862 --nthreads 36 --memory-limit 178.81GiB --name dummy-name --nanny --death-timeout 60 --interface ib0\n",
      "\n"
     ]
    }
   ],
   "source": [
    "from dask_jobqueue import SLURMCluster  # setup dask cluster \n",
    "cluster = SLURMCluster(\n",
    "    cores=36,\n",
    "    processes=1,\n",
    "    memory='192GB',\n",
    "    walltime='02:00:00',\n",
    "    queue='compute',\n",
    "    interface='ib0')\n",
    "print(cluster.job_script())\n",
    "cluster.scale(jobs=16)\n",
    "from dask.distributed import Client\n",
    "client = Client(cluster)\n",
    "client"
   ]
  },
  {
   "cell_type": "code",
   "execution_count": 5,
   "id": "ae2eddc9-6ca8-40d8-b6a0-db9bc7c3c43f",
   "metadata": {
    "tags": []
   },
   "outputs": [],
   "source": [
    "GLORYS_dir = r\"/vortexfs1/share/cdx/hseo/Data/MERCATOR/NEP_daily\" \n",
    "results = [str(result) for result in list(Path(GLORYS_dir).rglob(\"*.[nN][cC]\"))] #get all files\n",
    "results = natsorted(results) #sort all files \n",
    "\n",
    "years = natsorted(list(set([result[41:45] for result in results])))\n",
    "months = natsorted(['01', '02', '03', '04', '05', '06', '07', '08', '09', '10', '11', '12'])"
   ]
  },
  {
   "cell_type": "code",
   "execution_count": 6,
   "id": "df540b75-8e9e-44f2-abb1-33984eab36d0",
   "metadata": {
    "tags": []
   },
   "outputs": [],
   "source": [
    "def _preprocess(ds):\n",
    "    return ds[[\"thetao\", \"zos\"]].sel(latitude = slice(-2, 60), \n",
    "                                     longitude = slice(-150, -75), depth = slice(0, 50))"
   ]
  },
  {
   "cell_type": "code",
   "execution_count": 7,
   "id": "c83d8ed1-978e-4e15-9fdb-470ec4001159",
   "metadata": {
    "tags": []
   },
   "outputs": [],
   "source": [
    "ds = xr.open_mfdataset(\n",
    "        results,\n",
    "        data_vars=\"minimal\",\n",
    "        coords=\"minimal\",\n",
    "        compat=\"override\",\n",
    "        preprocess=_preprocess,\n",
    "        parallel=True,\n",
    "        chunks={\"latitude\":-1, \"longitude\":-1, \"time\":-1, \"depth\":2},\n",
    "        engine=\"scipy\")"
   ]
  },
  {
   "cell_type": "code",
   "execution_count": 8,
   "id": "3d3e7375-5302-4185-88a0-6cbfa3e53e15",
   "metadata": {
    "tags": []
   },
   "outputs": [
    {
     "name": "stderr",
     "output_type": "stream",
     "text": [
      "/vortexfs1/home/anthony.meza/mambaforge/envs/atm_rivers/lib/python3.10/site-packages/distributed/client.py:3106: UserWarning: Sending large graph of size 43.51 MiB.\n",
      "This may cause some slowdown.\n",
      "Consider scattering data ahead of time and using futures.\n",
      "  warnings.warn(\n"
     ]
    }
   ],
   "source": [
    "#save the dataset before processing \n",
    "ds.to_netcdf(GLORYS_data_dir(\"GLORYS_NE_PAC.nc\"),\n",
    "             mode = \"w\", format = \"NETCDF4\", \n",
    "             engine = \"netcdf4\", compute = True)"
   ]
  },
  {
   "cell_type": "code",
   "execution_count": 9,
   "id": "51cad2ba-ca2f-4c31-a4b9-2d990d78b787",
   "metadata": {
    "tags": []
   },
   "outputs": [],
   "source": [
    "#do not change chunks, this is the fastest wat\n",
    "ds = xr.open_mfdataset(GLORYS_data_dir(\"GLORYS_NE_PAC.nc\"), \n",
    "                            data_vars=\"minimal\",\n",
    "                            coords=\"minimal\",\n",
    "                            compat=\"override\",\n",
    "                            preprocess=_preprocess,\n",
    "                            parallel=True,\n",
    "                            chunks={\"longitude\":-1, \"latitude\":-1, \"time\":720, \"depth\":1}, \n",
    "                            engine=\"netcdf4\")"
   ]
  },
  {
   "cell_type": "code",
   "execution_count": 36,
   "id": "1fd8c6c4-e669-4000-93f9-60e8c390d857",
   "metadata": {
    "tags": []
   },
   "outputs": [],
   "source": [
    "ds = ds.convert_calendar('noleap') #remove leap years from operations\n",
    "ds_climatology = ds.groupby(\"time.dayofyear\").mean(dim = \"time\")"
   ]
  },
  {
   "cell_type": "code",
   "execution_count": null,
   "id": "ae93335b-ac49-4acd-8aa8-e6d1e0938c5a",
   "metadata": {
    "tags": []
   },
   "outputs": [
    {
     "name": "stderr",
     "output_type": "stream",
     "text": [
      "/vortexfs1/home/anthony.meza/mambaforge/envs/atm_rivers/lib/python3.10/site-packages/distributed/client.py:3106: UserWarning: Sending large graph of size 15.86 MiB.\n",
      "This may cause some slowdown.\n",
      "Consider scattering data ahead of time and using futures.\n",
      "  warnings.warn(\n"
     ]
    }
   ],
   "source": [
    "ds_climatology.to_netcdf(GLORYS_data_dir(\"GLORYS_SFC_Climatology.nc\"),\n",
    "             mode = \"w\", format = \"NETCDF4\", \n",
    "             engine = \"netcdf4\", compute = True)"
   ]
  }
 ],
 "metadata": {
  "kernelspec": {
   "display_name": "Python (Atmospheric Rivers)",
   "language": "python",
   "name": "atm_rivers"
  },
  "language_info": {
   "codemirror_mode": {
    "name": "ipython",
    "version": 3
   },
   "file_extension": ".py",
   "mimetype": "text/x-python",
   "name": "python",
   "nbconvert_exporter": "python",
   "pygments_lexer": "ipython3",
   "version": "3.10.10"
  }
 },
 "nbformat": 4,
 "nbformat_minor": 5
}

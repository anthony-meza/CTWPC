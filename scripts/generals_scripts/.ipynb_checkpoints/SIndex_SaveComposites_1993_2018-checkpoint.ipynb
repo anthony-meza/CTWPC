{
 "cells": [
  {
   "cell_type": "markdown",
   "id": "0f0f1a51-ad0f-4694-9e19-44016f728430",
   "metadata": {},
   "source": [
    "### The purpose of this notebook to is to recreate the regress the SSH in GLORYS onto the CWI developed in Amaya et al. (2022)"
   ]
  },
  {
   "cell_type": "code",
   "execution_count": 1,
   "id": "b2669743-66c8-426d-a957-9cfd6d15d446",
   "metadata": {},
   "outputs": [],
   "source": [
    "import os\n",
    "os.chdir('/vortexfs1/home/anthony.meza/Atmospheric Rivers and Waves/scripts')\n",
    "plotsdir = lambda x=\"\": \"/vortexfs1/home/anthony.meza/Atmospheric Rivers and Waves/plots/\" + x\n",
    "GLORYS_dir = lambda x=\"\": \"/vortexfs1/home/anthony.meza/GLORYS_data\" + x\n",
    "GLORYS_data_dir = lambda x=\"\": \"/vortexfs1/home/anthony.meza/Atmospheric Rivers and Waves/GLORYS_processed/\" + x\n",
    "ERA5_data_dir = lambda x=\"\": \"/vortexfs1/home/anthony.meza/Atmospheric Rivers and Waves/ERA5_data/\" + x"
   ]
  },
  {
   "cell_type": "code",
   "execution_count": 2,
   "id": "c6be779b",
   "metadata": {},
   "outputs": [],
   "source": [
    "# from help_funcs import * \n",
    "# from eofs.xarray import Eof\n",
    "import cartopy.crs as ccrs\n",
    "import cartopy.feature as cfeature\n",
    "import importlib\n",
    "import xarray as xr\n",
    "import seaborn as sns\n",
    "import pandas as pd\n",
    "import cmocean.cm as cm\n",
    "import netCDF4 as nc\n",
    "import matplotlib.pyplot as plt\n",
    "import gc\n",
    "import os \n",
    "import multiprocessing\n",
    "from os.path import exists\n",
    "sns.set_context(\"notebook\")\n",
    "import dask_labextension\n",
    "from pathlib import Path\n",
    "import numpy as np\n",
    "import dask\n",
    "# dask.config.set({\"array.slicing.split_large_chunks\": False})"
   ]
  },
  {
   "cell_type": "code",
   "execution_count": 3,
   "id": "d3680621-c3f3-453c-ac0b-225a775da742",
   "metadata": {},
   "outputs": [],
   "source": [
    "def remove_climatology(ds, climatology):\n",
    "    ds = ds.convert_calendar('noleap') #remove leap years from operations\n",
    "    anomalies = ds.groupby(\"time.dayofyear\") - climatology\n",
    "    anomalies[\"time\"] = anomalies.indexes['time'].to_datetimeindex()\n",
    "    anomalies[\"time\"] = anomalies.indexes['time'].normalize()\n",
    "    return anomalies"
   ]
  },
  {
   "cell_type": "code",
   "execution_count": 4,
   "id": "5e992700-63e1-45fc-9406-7c8e0dd42056",
   "metadata": {},
   "outputs": [
    {
     "name": "stdout",
     "output_type": "stream",
     "text": [
      "#!/usr/bin/env bash\n",
      "\n",
      "#SBATCH -J dask-worker\n",
      "#SBATCH -p compute\n",
      "#SBATCH -n 1\n",
      "#SBATCH --cpus-per-task=36\n",
      "#SBATCH --mem=94G\n",
      "#SBATCH -t 02:00:00\n",
      "\n",
      "/vortexfs1/home/anthony.meza/mambaforge/envs/atm_rivers/bin/python -m distributed.cli.dask_worker tcp://172.16.3.53:42879 --nthreads 36 --memory-limit 93.13GiB --name dummy-name --nanny --death-timeout 60 --interface ib0\n",
      "\n"
     ]
    }
   ],
   "source": [
    "from dask_jobqueue import SLURMCluster  # setup dask cluster \n",
    "cluster = SLURMCluster(\n",
    "    cores=36,\n",
    "    processes=1,\n",
    "    memory='100GB',\n",
    "    walltime='02:00:00',\n",
    "    queue='compute',\n",
    "    interface='ib0')\n",
    "print(cluster.job_script())\n",
    "cluster.scale(jobs=8)\n",
    "from dask.distributed import Client\n",
    "client = Client(cluster)"
   ]
  },
  {
   "cell_type": "code",
   "execution_count": 5,
   "id": "17c31184-794a-4ee9-8220-5db64d6e9c5d",
   "metadata": {},
   "outputs": [
    {
     "data": {
      "text/html": [
       "<div>\n",
       "    <div style=\"width: 24px; height: 24px; background-color: #e1e1e1; border: 3px solid #9D9D9D; border-radius: 5px; position: absolute;\"> </div>\n",
       "    <div style=\"margin-left: 48px;\">\n",
       "        <h3 style=\"margin-bottom: 0px;\">Client</h3>\n",
       "        <p style=\"color: #9D9D9D; margin-bottom: 0px;\">Client-28aaf5f0-f351-11ed-95fd-3cfdfe55f080</p>\n",
       "        <table style=\"width: 100%; text-align: left;\">\n",
       "\n",
       "        <tr>\n",
       "        \n",
       "            <td style=\"text-align: left;\"><strong>Connection method:</strong> Cluster object</td>\n",
       "            <td style=\"text-align: left;\"><strong>Cluster type:</strong> dask_jobqueue.SLURMCluster</td>\n",
       "        \n",
       "        </tr>\n",
       "\n",
       "        \n",
       "            <tr>\n",
       "                <td style=\"text-align: left;\">\n",
       "                    <strong>Dashboard: </strong> <a href=\"/proxy/8787/status\" target=\"_blank\">/proxy/8787/status</a>\n",
       "                </td>\n",
       "                <td style=\"text-align: left;\"></td>\n",
       "            </tr>\n",
       "        \n",
       "\n",
       "        </table>\n",
       "\n",
       "        \n",
       "            <button style=\"margin-bottom: 12px;\" data-commandlinker-command=\"dask:populate-and-launch-layout\" data-commandlinker-args='{\"url\": \"/proxy/8787/status\" }'>\n",
       "                Launch dashboard in JupyterLab\n",
       "            </button>\n",
       "        \n",
       "\n",
       "        \n",
       "            <details>\n",
       "            <summary style=\"margin-bottom: 20px;\"><h3 style=\"display: inline;\">Cluster Info</h3></summary>\n",
       "            <div class=\"jp-RenderedHTMLCommon jp-RenderedHTML jp-mod-trusted jp-OutputArea-output\">\n",
       "    <div style=\"width: 24px; height: 24px; background-color: #e1e1e1; border: 3px solid #9D9D9D; border-radius: 5px; position: absolute;\">\n",
       "    </div>\n",
       "    <div style=\"margin-left: 48px;\">\n",
       "        <h3 style=\"margin-bottom: 0px; margin-top: 0px;\">SLURMCluster</h3>\n",
       "        <p style=\"color: #9D9D9D; margin-bottom: 0px;\">6dfed941</p>\n",
       "        <table style=\"width: 100%; text-align: left;\">\n",
       "            <tr>\n",
       "                <td style=\"text-align: left;\">\n",
       "                    <strong>Dashboard:</strong> <a href=\"/proxy/8787/status\" target=\"_blank\">/proxy/8787/status</a>\n",
       "                </td>\n",
       "                <td style=\"text-align: left;\">\n",
       "                    <strong>Workers:</strong> 0\n",
       "                </td>\n",
       "            </tr>\n",
       "            <tr>\n",
       "                <td style=\"text-align: left;\">\n",
       "                    <strong>Total threads:</strong> 0\n",
       "                </td>\n",
       "                <td style=\"text-align: left;\">\n",
       "                    <strong>Total memory:</strong> 0 B\n",
       "                </td>\n",
       "            </tr>\n",
       "            \n",
       "        </table>\n",
       "\n",
       "        <details>\n",
       "            <summary style=\"margin-bottom: 20px;\">\n",
       "                <h3 style=\"display: inline;\">Scheduler Info</h3>\n",
       "            </summary>\n",
       "\n",
       "            <div style=\"\">\n",
       "    <div>\n",
       "        <div style=\"width: 24px; height: 24px; background-color: #FFF7E5; border: 3px solid #FF6132; border-radius: 5px; position: absolute;\"> </div>\n",
       "        <div style=\"margin-left: 48px;\">\n",
       "            <h3 style=\"margin-bottom: 0px;\">Scheduler</h3>\n",
       "            <p style=\"color: #9D9D9D; margin-bottom: 0px;\">Scheduler-5968cca6-4e7f-45c1-ab53-e74dde2465c3</p>\n",
       "            <table style=\"width: 100%; text-align: left;\">\n",
       "                <tr>\n",
       "                    <td style=\"text-align: left;\">\n",
       "                        <strong>Comm:</strong> tcp://172.16.3.53:42879\n",
       "                    </td>\n",
       "                    <td style=\"text-align: left;\">\n",
       "                        <strong>Workers:</strong> 0\n",
       "                    </td>\n",
       "                </tr>\n",
       "                <tr>\n",
       "                    <td style=\"text-align: left;\">\n",
       "                        <strong>Dashboard:</strong> <a href=\"/proxy/8787/status\" target=\"_blank\">/proxy/8787/status</a>\n",
       "                    </td>\n",
       "                    <td style=\"text-align: left;\">\n",
       "                        <strong>Total threads:</strong> 0\n",
       "                    </td>\n",
       "                </tr>\n",
       "                <tr>\n",
       "                    <td style=\"text-align: left;\">\n",
       "                        <strong>Started:</strong> Just now\n",
       "                    </td>\n",
       "                    <td style=\"text-align: left;\">\n",
       "                        <strong>Total memory:</strong> 0 B\n",
       "                    </td>\n",
       "                </tr>\n",
       "            </table>\n",
       "        </div>\n",
       "    </div>\n",
       "\n",
       "    <details style=\"margin-left: 48px;\">\n",
       "        <summary style=\"margin-bottom: 20px;\">\n",
       "            <h3 style=\"display: inline;\">Workers</h3>\n",
       "        </summary>\n",
       "\n",
       "        \n",
       "\n",
       "    </details>\n",
       "</div>\n",
       "\n",
       "        </details>\n",
       "    </div>\n",
       "</div>\n",
       "            </details>\n",
       "        \n",
       "\n",
       "    </div>\n",
       "</div>"
      ],
      "text/plain": [
       "<Client: 'tcp://172.16.3.53:42879' processes=0 threads=0, memory=0 B>"
      ]
     },
     "execution_count": 5,
     "metadata": {},
     "output_type": "execute_result"
    }
   ],
   "source": [
    "client"
   ]
  },
  {
   "cell_type": "markdown",
   "id": "80728e12-7ce8-4ff3-a5ab-93523c038cdb",
   "metadata": {},
   "source": [
    "### We read in the Amaya Coastal Wave Index Amplitude $(\\text{Index} =  \\sqrt{\\text{PC1}^2 + \\text{PC2}^2)}$ and Phase $(\\text{Phase} = atan( {\\frac{\\text{PC2}}{\\text{PC1}}}))$ and recompute $\\text{PC1}$ and $\\text{PC2}$. We also remove the leap-year days from the GLORYS dataset."
   ]
  },
  {
   "cell_type": "code",
   "execution_count": 10,
   "id": "18d0d6d9-cc14-4e76-8add-0a08ed522aa6",
   "metadata": {},
   "outputs": [],
   "source": [
    "#read in Amaya Coastal wave index \n",
    "INDEX_TYPE = \"S\"\n",
    "\n",
    "mxtmp_Idx = xr.open_dataset(GLORYS_data_dir(\"GLORYS_\" + INDEX_TYPE + \"_Index.nc\")).sel(time = slice(\"1993\", \"2018\"))\n",
    "mxtmp_Idx[\"ikw_amp\"] = np.sqrt(mxtmp_Idx[\"PC1\"]**2 + mxtmp_Idx[\"PC2\"]**2)\n",
    "\n",
    "#obtain the phases from 0 to 360 degrees\n",
    "#measure angle from negative (-1, 0) instead of (1, 0)\n",
    "mxtmp_Idx[\"ikw_ph\"] =  np.rad2deg(np.arctan2(mxtmp_Idx[\"PC2\"], mxtmp_Idx[\"PC1\"]))\n",
    "mxtmp_Idx[\"ikw_ph\"].values[mxtmp_Idx[\"ikw_ph\"].values < 0] +=360"
   ]
  },
  {
   "cell_type": "code",
   "execution_count": 11,
   "id": "9018555f-1c15-4143-bcdc-69f19567e40c",
   "metadata": {},
   "outputs": [],
   "source": [
    "def is_djf(month):\n",
    "    return (month >= 1) & (month <= 2) | (month == 12)\n",
    "def is_djfm(month):\n",
    "    return (month >= 1) & (month <= 3) | (month == 12)\n",
    "def is_jfm(month):\n",
    "    return (month >= 1) & (month <= 3) "
   ]
  },
  {
   "cell_type": "code",
   "execution_count": 12,
   "id": "5a08fdee-f202-4671-87b4-94ef8651307b",
   "metadata": {},
   "outputs": [],
   "source": [
    "mxtmp_Idx_djf = mxtmp_Idx.isel(time = is_djfm(mxtmp_Idx[\"time.month\"])); min_amp = 1.5\n",
    "phases_dict = {}\n",
    "phases_dict[\"1\"] = np.argwhere((45 > mxtmp_Idx_djf.ikw_ph.values) & (mxtmp_Idx_djf.ikw_ph.values >=0) & (mxtmp_Idx_djf.ikw_amp.values >min_amp) )\n",
    "phases_dict[\"2\"] = np.argwhere((90 > mxtmp_Idx_djf.ikw_ph.values) & (mxtmp_Idx_djf.ikw_ph.values >=45) & (mxtmp_Idx_djf.ikw_amp.values >min_amp) )\n",
    "phases_dict[\"3\"] = np.argwhere((135 > mxtmp_Idx_djf.ikw_ph.values) & (mxtmp_Idx_djf.ikw_ph.values >=90) & (mxtmp_Idx_djf.ikw_amp.values >min_amp) )\n",
    "phases_dict[\"4\"] = np.argwhere((180 > mxtmp_Idx_djf.ikw_ph.values) & (mxtmp_Idx_djf.ikw_ph.values >=135) & (mxtmp_Idx_djf.ikw_amp.values >min_amp) )\n",
    "phases_dict[\"5\"] = np.argwhere((225 > mxtmp_Idx_djf.ikw_ph.values) & (mxtmp_Idx_djf.ikw_ph.values >=180) & (mxtmp_Idx_djf.ikw_amp.values >min_amp) )\n",
    "phases_dict[\"6\"] = np.argwhere((270 > mxtmp_Idx_djf.ikw_ph.values) & (mxtmp_Idx_djf.ikw_ph.values >=225) & (mxtmp_Idx_djf.ikw_amp.values >min_amp) )\n",
    "phases_dict[\"7\"] = np.argwhere((315 > mxtmp_Idx_djf.ikw_ph.values) & (mxtmp_Idx_djf.ikw_ph.values >=270) & (mxtmp_Idx_djf.ikw_amp.values >min_amp) )\n",
    "phases_dict[\"8\"] = np.argwhere((360 > mxtmp_Idx_djf.ikw_ph.values) & (mxtmp_Idx_djf.ikw_ph.values >=315) & (mxtmp_Idx_djf.ikw_amp.values >min_amp) )"
   ]
  },
  {
   "cell_type": "markdown",
   "id": "71b57fa1-07e6-4242-b5ef-c7493439980c",
   "metadata": {
    "tags": []
   },
   "source": [
    "### Reading in the GLORYS and ERA5 data files. Files have been preprocessed and combined in order to take advantage of the **dask** feature of xarray. We also remove their seasonal cliamtologies"
   ]
  },
  {
   "cell_type": "code",
   "execution_count": null,
   "id": "c83d8ed1-978e-4e15-9fdb-470ec4001159",
   "metadata": {},
   "outputs": [],
   "source": [
    "%%time \n",
    "def _preprocess(ds):\n",
    "    return ds[[\"thetao\"]].sel(latitude = slice(-2, 60), longitude = slice(-150, -75), time = slice(\"1993\", \"2018\"))\n",
    "\n",
    "glorys_anomalies = xr.open_mfdataset(\n",
    "        GLORYS_data_dir(\"GLORYS_SST_AnomaliesBandPass.nc\"),\n",
    "        data_vars=\"minimal\",\n",
    "        coords=\"minimal\",\n",
    "        compat=\"override\",\n",
    "        preprocess=_preprocess,\n",
    "        parallel=True,\n",
    "        chunks={\"time\":320, \"latitude\":-1, \"longitude\":-1, \"depth\":1},\n",
    "        engine=\"netcdf4\")\n",
    "glorys_anomalies = glorys_anomalies.sel(time = mxtmp_Idx.time.values)"
   ]
  },
  {
   "cell_type": "code",
   "execution_count": null,
   "id": "136c3a6b-49d1-4c6a-b2dc-ea04039f3bce",
   "metadata": {},
   "outputs": [],
   "source": [
    "def _preprocess_ERA5(ds):\n",
    "    return ds.sel(latitude = slice(60, -2)).sel(longitude = slice(-150, -75)).sel(time = slice(\"1993\", \"2018\"))\n",
    "\n",
    "era5_anomalies = xr.open_mfdataset(GLORYS_data_dir(\"ERA5_AnomaliesBandPass.nc\"), \n",
    "        data_vars=\"minimal\", coords=\"minimal\",\n",
    "        compat=\"override\", preprocess=_preprocess_ERA5,\n",
    "        parallel=True, chunks={\"longitude\": -1, \"latitude\":-1, \"time\":320}, engine=\"netcdf4\")\n",
    "\n",
    "era5_anomalies = era5_anomalies.sel(time = mxtmp_Idx.time.values)"
   ]
  },
  {
   "cell_type": "code",
   "execution_count": null,
   "id": "dd5404a0-b791-4c20-8917-7371d599a034",
   "metadata": {},
   "outputs": [],
   "source": [
    "def _preprocess_ERA5(ds):\n",
    "    return ds.sel(latitude = slice(60, -2)).sel(longitude = slice(-150, -75)).sel(time = slice(\"1993\", \"2018\"))\n",
    "\n",
    "era5_IVT_anomalies = xr.open_mfdataset(GLORYS_data_dir(\"ERA5_WaterAnomaliesBandPass.nc\"), \n",
    "        data_vars=\"minimal\", coords=\"minimal\",\n",
    "        compat=\"override\", preprocess=_preprocess_ERA5,\n",
    "        parallel=True, chunks={\"longitude\": -1, \"latitude\":-1, \"time\":320}, engine=\"netcdf4\")\n",
    "\n",
    "era5_IVT_anomalies = era5_IVT_anomalies.sel(time = mxtmp_Idx.time.values)\n",
    "era5_IVT_anomalies = era5_IVT_anomalies.rename({\"p71.162\":\"IVTE\", \"p72.162\":\"IVTN\"})"
   ]
  },
  {
   "cell_type": "code",
   "execution_count": null,
   "id": "d53f6f9b-0da0-48f3-af88-f506a272921e",
   "metadata": {},
   "outputs": [],
   "source": [
    "DJF_phases = {}\n",
    "var_keys = [\"SST\", \"Precip\", \"TCWV\", \"z500\", \"IVTE\", \"IVTN\"]\n",
    "for key in var_keys:\n",
    "    DJF_phases[key] = {}"
   ]
  },
  {
   "cell_type": "code",
   "execution_count": null,
   "id": "2969e164-ddf6-4b8b-b7dd-e365ff70e3a4",
   "metadata": {},
   "outputs": [],
   "source": [
    "for phase, phase_indices in phases_dict.items():\n",
    "    \n",
    "    num_phases_days = len(phase_indices)\n",
    "    tp_anom_mean = era5_anomalies.tp.isel(time = is_djfm(mxtmp_Idx[\"time.month\"])).isel(time = phase_indices.flatten()).mean(dim = \"time\")\n",
    "    sst_anom_mean = glorys_anomalies.thetao.isel(time = is_djfm(mxtmp_Idx[\"time.month\"])).isel(time = phase_indices.flatten()).mean(dim = \"time\")\n",
    "    tcwv_anom_mean = era5_anomalies.tcwv.isel(time = is_djfm(mxtmp_Idx[\"time.month\"])).isel(time = phase_indices.flatten()).mean(dim = \"time\")    \n",
    "    z500_anom_mean = era5_anomalies.z.isel(time = is_djfm(mxtmp_Idx[\"time.month\"])).isel(time = phase_indices.flatten()).mean(dim = \"time\")    \n",
    "    IVTE_anom_mean = era5_IVT_anomalies.IVTE.isel(time = is_djfm(mxtmp_Idx[\"time.month\"])).isel(time = phase_indices.flatten()).mean(dim = \"time\")    \n",
    "    IVTN_anom_mean = era5_IVT_anomalies.IVTN.isel(time = is_djfm(mxtmp_Idx[\"time.month\"])).isel(time = phase_indices.flatten()).mean(dim = \"time\")    \n",
    "\n",
    "    DJF_phases[\"SST\"][phase] = sst_anom_mean\n",
    "    DJF_phases[\"Precip\"][phase] = tp_anom_mean\n",
    "    DJF_phases[\"TCWV\"][phase] = tcwv_anom_mean\n",
    "    DJF_phases[\"z500\"][phase] = z500_anom_mean / 1000\n",
    "    DJF_phases[\"IVTE\"][phase] = IVTE_anom_mean\n",
    "    DJF_phases[\"IVTN\"][phase] = IVTN_anom_mean\n",
    "    print(phase, len(phase_indices))"
   ]
  },
  {
   "cell_type": "code",
   "execution_count": null,
   "id": "8002a9ea-705a-433f-ad7c-771c675253f1",
   "metadata": {},
   "outputs": [],
   "source": [
    "for phase, phase_indices in phases_dict.items():\n",
    "    print(phase)\n",
    "    DJF_phases[\"SST\"][phase] = DJF_phases[\"SST\"][phase].compute()\n",
    "    DJF_phases[\"Precip\"][phase] = DJF_phases[\"Precip\"][phase].compute()\n",
    "    DJF_phases[\"TCWV\"][phase] = DJF_phases[\"TCWV\"][phase].compute()\n",
    "    DJF_phases[\"z500\"][phase] = DJF_phases[\"z500\"][phase].compute()\n",
    "    DJF_phases[\"IVTE\"][phase] = DJF_phases[\"IVTE\"][phase].compute()\n",
    "    DJF_phases[\"IVTN\"][phase] = DJF_phases[\"IVTN\"][phase].compute()"
   ]
  },
  {
   "cell_type": "markdown",
   "id": "6969a64c-299b-42a5-8c36-8b3ceeae175e",
   "metadata": {
    "tags": []
   },
   "source": [
    "## Getting the $\\pm$ 3 days view for phase 5"
   ]
  },
  {
   "cell_type": "code",
   "execution_count": null,
   "id": "8b4bc682-72cc-4db3-895b-c0cec3214b9a",
   "metadata": {},
   "outputs": [],
   "source": [
    "SST_DFJ_phase4_dict = {}\n",
    "precip_DFJ_phase4_dict = {}\n",
    "tcwv_DFJ_phase4_dict = {}\n",
    "z500_DFJ_phase4_dict = {}\n",
    "IVTE_DFJ_phase4_dict = {}\n",
    "IVTN_DFJ_phase4_dict = {}\n",
    "\n",
    "day_labels = np.array([-14, -7, 0, 7, 14])\n",
    "day_range = range(0, len(day_labels))\n",
    "renameindex = lambda x: x.reset_index(['time']).rename({'time': 'day'}).assign_coords(day = day_labels)\n",
    "\n",
    "SST_DFJ_phase4_dict[\"4\"] = xr.zeros_like(renameindex(glorys_anomalies.thetao.isel(time = day_range)))\n",
    "precip_DFJ_phase4_dict[\"4\"] = xr.zeros_like(renameindex(era5_anomalies.tp.isel(time = day_range)))\n",
    "tcwv_DFJ_phase4_dict[\"4\"] = xr.zeros_like(renameindex(era5_anomalies.tcwv.isel(time = day_range)))\n",
    "z500_DFJ_phase4_dict[\"4\"] = xr.zeros_like(renameindex(era5_anomalies.z.isel(time = day_range)))\n",
    "IVTE_DFJ_phase4_dict[\"4\"] = xr.zeros_like(renameindex(era5_IVT_anomalies.IVTE.isel(time = day_range)))\n",
    "IVTN_DFJ_phase4_dict[\"4\"] = xr.zeros_like(renameindex(era5_IVT_anomalies.IVTN.isel(time = day_range)))"
   ]
  },
  {
   "cell_type": "code",
   "execution_count": null,
   "id": "c41bcfdc-6248-4f2e-a932-47f2f547d615",
   "metadata": {},
   "outputs": [],
   "source": [
    "phase = \"4\"\n",
    "phase_indices = phases_dict[phase]\n",
    "num_phases_days = len(phase_indices)\n",
    "for idx in phase_indices:\n",
    "    dayindices = day_labels + idx[0]\n",
    "    maxtimen = len(era5_anomalies.tp.isel(time = is_djfm(mxtmp_Idx[\"time.month\"])))\n",
    "    if (np.max(dayindices) < maxtimen) & (np.min(dayindices) > 0):\n",
    "        tp_anom_mean = renameindex(era5_anomalies.tp.isel(time = is_djfm(mxtmp_Idx[\"time.month\"])).isel(time = dayindices))\n",
    "        sst_anom_mean = renameindex(glorys_anomalies.thetao.isel(time = is_djfm(mxtmp_Idx[\"time.month\"])).isel(time = dayindices))\n",
    "        tcwv_anom_mean = renameindex(era5_anomalies.tcwv.isel(time = is_djfm(mxtmp_Idx[\"time.month\"])).isel(time = dayindices))\n",
    "        z500_anom_mean = renameindex(era5_anomalies.isel(time = is_djfm(mxtmp_Idx[\"time.month\"])).z.isel(time = dayindices))\n",
    "        IVTE_anom_mean = renameindex(era5_IVT_anomalies.IVTE.isel(time = is_djfm(mxtmp_Idx[\"time.month\"])).isel(time = dayindices))\n",
    "        IVTN_anom_mean = renameindex(era5_IVT_anomalies.IVTN.isel(time = is_djfm(mxtmp_Idx[\"time.month\"])).isel(time = dayindices))\n",
    "\n",
    "        SST_DFJ_phase4_dict[phase] += sst_anom_mean / num_phases_days\n",
    "        precip_DFJ_phase4_dict[phase] += tp_anom_mean / num_phases_days\n",
    "        tcwv_DFJ_phase4_dict[phase] += tcwv_anom_mean/ num_phases_days\n",
    "        IVTE_DFJ_phase4_dict[phase] += IVTE_anom_mean/ num_phases_days\n",
    "        IVTN_DFJ_phase4_dict[phase] += IVTN_anom_mean/ num_phases_days\n",
    "        z500_DFJ_phase4_dict[phase] += (z500_anom_mean / 1000) / num_phases_days\n",
    "print(phase, len(phase_indices))"
   ]
  },
  {
   "cell_type": "code",
   "execution_count": null,
   "id": "c980418f-98c8-4aae-ad00-305a1dadd0ee",
   "metadata": {},
   "outputs": [],
   "source": [
    "#constructing the full dictionary\n",
    "phase = \"4\"\n",
    "DJF_phase4_dict = {}\n",
    "var_keys = [\"SST\", \"Precip\", \"TCWV\", \"z500\", \"IVTE\", \"IVTN\"]\n",
    "for key in var_keys:\n",
    "    DJF_phase4_dict[key] = {}\n",
    "DJF_phase4_dict[\"SST\"] = SST_DFJ_phase4_dict[phase].compute()\n",
    "DJF_phase4_dict[\"Precip\"] = precip_DFJ_phase4_dict[phase].compute()\n",
    "DJF_phase4_dict[\"TCWV\"] = tcwv_DFJ_phase4_dict[phase].compute()\n",
    "DJF_phase4_dict[\"z500\"] = z500_DFJ_phase4_dict[phase].compute() \n",
    "DJF_phase4_dict[\"IVTE\"] = IVTE_DFJ_phase4_dict[phase].compute() \n",
    "DJF_phase4_dict[\"IVTN\"] = IVTN_DFJ_phase4_dict[phase].compute() "
   ]
  },
  {
   "cell_type": "code",
   "execution_count": null,
   "id": "680907e3-0a03-4ccf-9717-c697fa6141d7",
   "metadata": {},
   "outputs": [],
   "source": [
    "# Store data (serialize)\n",
    "indexdir = INDEX_TYPE + \"_Phases\"\n",
    "try:\n",
    "    os.mkdir(GLORYS_data_dir(indexdir))\n",
    "except:\n",
    "    print(\"dir already exists\")\n",
    "    \n",
    "import pickle\n",
    "\n",
    "with open(GLORYS_data_dir(INDEX_TYPE + \"_Phases/Composites.pickle\"), 'wb') as handle:\n",
    "    pickle.dump(DJF_phases, handle, protocol=pickle.HIGHEST_PROTOCOL)\n",
    "# Store data (serialize)\n",
    "with open(GLORYS_data_dir(INDEX_TYPE + \"_Phases/CompositesPhase4.pickle\"), 'wb') as handle:\n",
    "    pickle.dump(DJF_phase4_dict, handle, protocol=pickle.HIGHEST_PROTOCOL)\n",
    "# Store data (serialize)\n",
    "with open(GLORYS_data_dir(INDEX_TYPE + \"_Phases/IndexPhases.pickle\"), 'wb') as handle:\n",
    "    pickle.dump(phases_dict, handle, protocol=pickle.HIGHEST_PROTOCOL)"
   ]
  },
  {
   "cell_type": "code",
   "execution_count": null,
   "id": "94b706bc-0118-41b4-a29e-25680cca56cb",
   "metadata": {},
   "outputs": [],
   "source": []
  },
  {
   "cell_type": "code",
   "execution_count": 19,
   "id": "886019f8-c565-4fdb-a59a-fbd014fc3f0c",
   "metadata": {
    "tags": []
   },
   "outputs": [],
   "source": [
    "x = 3"
   ]
  },
  {
   "cell_type": "code",
   "execution_count": null,
   "id": "c2cd426d-65ad-4025-baf0-5a513aa0157d",
   "metadata": {},
   "outputs": [],
   "source": []
  }
 ],
 "metadata": {
  "kernelspec": {
   "display_name": "Python (Atmospheric Rivers)",
   "language": "python",
   "name": "atm_rivers"
  },
  "language_info": {
   "codemirror_mode": {
    "name": "ipython",
    "version": 3
   },
   "file_extension": ".py",
   "mimetype": "text/x-python",
   "name": "python",
   "nbconvert_exporter": "python",
   "pygments_lexer": "ipython3",
   "version": "3.10.10"
  }
 },
 "nbformat": 4,
 "nbformat_minor": 5
}

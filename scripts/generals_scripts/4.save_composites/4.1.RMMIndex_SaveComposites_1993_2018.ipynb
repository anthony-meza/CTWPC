{
 "cells": [
  {
   "attachments": {},
   "cell_type": "markdown",
   "id": "0f0f1a51-ad0f-4694-9e19-44016f728430",
   "metadata": {},
   "source": [
    "### The purpose of this notebook to is to recreate the regress the SSH in GLORYS onto the CWI developed in Amaya et al. (2022)"
   ]
  },
  {
   "cell_type": "code",
   "execution_count": 1,
   "id": "b2669743-66c8-426d-a957-9cfd6d15d446",
   "metadata": {},
   "outputs": [],
   "source": [
    "import os, gc; from os.path import exists\n",
    "os.chdir('/vortexfs1/home/anthony.meza/CTWPC/scripts')\n",
    "main_dir = \"/vortexfs1/home/anthony.meza/CTWPC\"\n",
    "plotsdir = lambda x=\"\": main_dir + \"/plots/\" + x\n",
    "GLORYS_dir = lambda x=\"\": main_dir + \"/GLORYS_data\" + x\n",
    "GLORYS_data_dir = lambda x=\"\": main_dir + \"/GLORYS_processed/\" + x\n",
    "ERA5_data_dir = lambda x=\"\": main_dir + \"/ERA5_data/\" + x"
   ]
  },
  {
   "cell_type": "code",
   "execution_count": 2,
   "id": "c6be779b",
   "metadata": {},
   "outputs": [],
   "source": [
    "# from help_funcs import * \n",
    "# from eofs.xarray import Eof\n",
    "import cartopy.crs as ccrs\n",
    "import cartopy.feature as cfeature\n",
    "import importlib\n",
    "import xarray as xr\n",
    "import seaborn as sns\n",
    "import pandas as pd\n",
    "import cmocean.cm as cm\n",
    "import netCDF4 as nc\n",
    "import matplotlib.pyplot as plt\n",
    "import gc\n",
    "import os \n",
    "import multiprocessing\n",
    "from os.path import exists\n",
    "sns.set_context(\"notebook\")\n",
    "import dask_labextension\n",
    "from pathlib import Path\n",
    "import numpy as np\n",
    "import dask\n",
    "# dask.config.set({\"array.slicing.split_large_chunks\": False})"
   ]
  },
  {
   "cell_type": "code",
   "execution_count": 3,
   "id": "d3680621-c3f3-453c-ac0b-225a775da742",
   "metadata": {},
   "outputs": [],
   "source": [
    "def remove_climatology(ds, climatology):\n",
    "    ds = ds.convert_calendar('noleap') #remove leap years from operations\n",
    "    anomalies = ds.groupby(\"time.dayofyear\") - climatology\n",
    "    anomalies[\"time\"] = anomalies.indexes['time'].to_datetimeindex()\n",
    "    anomalies[\"time\"] = anomalies.indexes['time'].normalize()\n",
    "    return anomalies"
   ]
  },
  {
   "cell_type": "code",
   "execution_count": 4,
   "id": "5e992700-63e1-45fc-9406-7c8e0dd42056",
   "metadata": {},
   "outputs": [
    {
     "name": "stdout",
     "output_type": "stream",
     "text": [
      "#!/usr/bin/env bash\n",
      "\n",
      "#SBATCH -J dask-worker\n",
      "#SBATCH -p compute\n",
      "#SBATCH -n 1\n",
      "#SBATCH --cpus-per-task=36\n",
      "#SBATCH --mem=94G\n",
      "#SBATCH -t 02:00:00\n",
      "\n",
      "/vortexfs1/home/anthony.meza/mambaforge/envs/atm_rivers/bin/python -m distributed.cli.dask_worker tcp://172.16.3.125:36380 --nthreads 36 --memory-limit 93.13GiB --name dummy-name --nanny --death-timeout 60 --interface ib0\n",
      "\n"
     ]
    }
   ],
   "source": [
    "from dask_jobqueue import SLURMCluster  # setup dask cluster \n",
    "cluster = SLURMCluster(\n",
    "    cores=36,\n",
    "    processes=1,\n",
    "    memory='100GB',\n",
    "    walltime='02:00:00',\n",
    "    queue='compute',\n",
    "    interface='ib0')\n",
    "print(cluster.job_script())\n",
    "cluster.scale(jobs=8)\n",
    "from dask.distributed import Client\n",
    "client = Client(cluster)"
   ]
  },
  {
   "cell_type": "code",
   "execution_count": 5,
   "id": "17c31184-794a-4ee9-8220-5db64d6e9c5d",
   "metadata": {},
   "outputs": [
    {
     "data": {
      "text/html": [
       "<div>\n",
       "    <div style=\"width: 24px; height: 24px; background-color: #e1e1e1; border: 3px solid #9D9D9D; border-radius: 5px; position: absolute;\"> </div>\n",
       "    <div style=\"margin-left: 48px;\">\n",
       "        <h3 style=\"margin-bottom: 0px;\">Client</h3>\n",
       "        <p style=\"color: #9D9D9D; margin-bottom: 0px;\">Client-2e14c860-f5fa-11ed-8c73-3cfdfe707e10</p>\n",
       "        <table style=\"width: 100%; text-align: left;\">\n",
       "\n",
       "        <tr>\n",
       "        \n",
       "            <td style=\"text-align: left;\"><strong>Connection method:</strong> Cluster object</td>\n",
       "            <td style=\"text-align: left;\"><strong>Cluster type:</strong> dask_jobqueue.SLURMCluster</td>\n",
       "        \n",
       "        </tr>\n",
       "\n",
       "        \n",
       "            <tr>\n",
       "                <td style=\"text-align: left;\">\n",
       "                    <strong>Dashboard: </strong> <a href=\"/proxy/8787/status\" target=\"_blank\">/proxy/8787/status</a>\n",
       "                </td>\n",
       "                <td style=\"text-align: left;\"></td>\n",
       "            </tr>\n",
       "        \n",
       "\n",
       "        </table>\n",
       "\n",
       "        \n",
       "            <button style=\"margin-bottom: 12px;\" data-commandlinker-command=\"dask:populate-and-launch-layout\" data-commandlinker-args='{\"url\": \"/proxy/8787/status\" }'>\n",
       "                Launch dashboard in JupyterLab\n",
       "            </button>\n",
       "        \n",
       "\n",
       "        \n",
       "            <details>\n",
       "            <summary style=\"margin-bottom: 20px;\"><h3 style=\"display: inline;\">Cluster Info</h3></summary>\n",
       "            <div class=\"jp-RenderedHTMLCommon jp-RenderedHTML jp-mod-trusted jp-OutputArea-output\">\n",
       "    <div style=\"width: 24px; height: 24px; background-color: #e1e1e1; border: 3px solid #9D9D9D; border-radius: 5px; position: absolute;\">\n",
       "    </div>\n",
       "    <div style=\"margin-left: 48px;\">\n",
       "        <h3 style=\"margin-bottom: 0px; margin-top: 0px;\">SLURMCluster</h3>\n",
       "        <p style=\"color: #9D9D9D; margin-bottom: 0px;\">01e75bcb</p>\n",
       "        <table style=\"width: 100%; text-align: left;\">\n",
       "            <tr>\n",
       "                <td style=\"text-align: left;\">\n",
       "                    <strong>Dashboard:</strong> <a href=\"/proxy/8787/status\" target=\"_blank\">/proxy/8787/status</a>\n",
       "                </td>\n",
       "                <td style=\"text-align: left;\">\n",
       "                    <strong>Workers:</strong> 0\n",
       "                </td>\n",
       "            </tr>\n",
       "            <tr>\n",
       "                <td style=\"text-align: left;\">\n",
       "                    <strong>Total threads:</strong> 0\n",
       "                </td>\n",
       "                <td style=\"text-align: left;\">\n",
       "                    <strong>Total memory:</strong> 0 B\n",
       "                </td>\n",
       "            </tr>\n",
       "            \n",
       "        </table>\n",
       "\n",
       "        <details>\n",
       "            <summary style=\"margin-bottom: 20px;\">\n",
       "                <h3 style=\"display: inline;\">Scheduler Info</h3>\n",
       "            </summary>\n",
       "\n",
       "            <div style=\"\">\n",
       "    <div>\n",
       "        <div style=\"width: 24px; height: 24px; background-color: #FFF7E5; border: 3px solid #FF6132; border-radius: 5px; position: absolute;\"> </div>\n",
       "        <div style=\"margin-left: 48px;\">\n",
       "            <h3 style=\"margin-bottom: 0px;\">Scheduler</h3>\n",
       "            <p style=\"color: #9D9D9D; margin-bottom: 0px;\">Scheduler-7a252b85-2aae-448f-997e-3cb779d56985</p>\n",
       "            <table style=\"width: 100%; text-align: left;\">\n",
       "                <tr>\n",
       "                    <td style=\"text-align: left;\">\n",
       "                        <strong>Comm:</strong> tcp://172.16.3.125:36380\n",
       "                    </td>\n",
       "                    <td style=\"text-align: left;\">\n",
       "                        <strong>Workers:</strong> 0\n",
       "                    </td>\n",
       "                </tr>\n",
       "                <tr>\n",
       "                    <td style=\"text-align: left;\">\n",
       "                        <strong>Dashboard:</strong> <a href=\"/proxy/8787/status\" target=\"_blank\">/proxy/8787/status</a>\n",
       "                    </td>\n",
       "                    <td style=\"text-align: left;\">\n",
       "                        <strong>Total threads:</strong> 0\n",
       "                    </td>\n",
       "                </tr>\n",
       "                <tr>\n",
       "                    <td style=\"text-align: left;\">\n",
       "                        <strong>Started:</strong> Just now\n",
       "                    </td>\n",
       "                    <td style=\"text-align: left;\">\n",
       "                        <strong>Total memory:</strong> 0 B\n",
       "                    </td>\n",
       "                </tr>\n",
       "            </table>\n",
       "        </div>\n",
       "    </div>\n",
       "\n",
       "    <details style=\"margin-left: 48px;\">\n",
       "        <summary style=\"margin-bottom: 20px;\">\n",
       "            <h3 style=\"display: inline;\">Workers</h3>\n",
       "        </summary>\n",
       "\n",
       "        \n",
       "\n",
       "    </details>\n",
       "</div>\n",
       "\n",
       "        </details>\n",
       "    </div>\n",
       "</div>\n",
       "            </details>\n",
       "        \n",
       "\n",
       "    </div>\n",
       "</div>"
      ],
      "text/plain": [
       "<Client: 'tcp://172.16.3.125:36380' processes=0 threads=0, memory=0 B>"
      ]
     },
     "execution_count": 5,
     "metadata": {},
     "output_type": "execute_result"
    }
   ],
   "source": [
    "client"
   ]
  },
  {
   "attachments": {},
   "cell_type": "markdown",
   "id": "80728e12-7ce8-4ff3-a5ab-93523c038cdb",
   "metadata": {},
   "source": [
    "### We read in the Amaya Coastal Wave Index Amplitude $(\\text{Index} =  \\sqrt{\\text{PC1}^2 + \\text{PC2}^2)}$ and Phase $(\\text{Phase} = atan( {\\frac{\\text{PC2}}{\\text{PC1}}}))$ and recompute $\\text{PC1}$ and $\\text{PC2}$. We also remove the leap-year days from the GLORYS dataset."
   ]
  },
  {
   "cell_type": "code",
   "execution_count": 16,
   "id": "18d0d6d9-cc14-4e76-8add-0a08ed522aa6",
   "metadata": {},
   "outputs": [],
   "source": [
    "import pandas as pd\n",
    "rmm = pd.read_csv(\"rMII_index_latest.txt\", delim_whitespace=True)\n",
    "new_rmm = rmm.iloc[:, 3:]\n",
    "new_rmm[\"time\"] = pd.to_datetime(rmm.iloc[:, 0:3].astype(\"string\").apply(\"-\".join, axis=1))\n",
    "rmm = new_rmm.rename(columns={new_rmm.columns[0]: \"PC1\", \n",
    "                       new_rmm.columns[1]: \"PC2\",\n",
    "                       new_rmm.columns[2]: \"Phase\"})\n",
    "rmm[\"Amplitude\"] = np.sqrt(rmm[\"PC1\"]**2 + rmm[\"PC2\"]**2)\n",
    "rmm = rmm.set_index(\"time\")\n",
    "rmm = rmm.to_xarray().isel(time = np.where(~np.isnan(rmm.Amplitude))[0])\n",
    "rmm = rmm.sel(time = slice(\"1993\", \"2018\"))"
   ]
  },
  {
   "cell_type": "code",
   "execution_count": 17,
   "id": "95a8d846-f4fb-4b9f-abc7-7244cc24f6e0",
   "metadata": {
    "tags": []
   },
   "outputs": [
    {
     "name": "stderr",
     "output_type": "stream",
     "text": [
      "/tmp/ipykernel_248947/2850264681.py:2: RuntimeWarning: Converting a CFTimeIndex with dates from a non-standard calendar, 'noleap', to a pandas.DatetimeIndex, which uses dates from the standard calendar.  This may lead to subtle errors in operations that depend on the length of time between dates.\n",
      "  rmm[\"time\"] = rmm.indexes['time'].to_datetimeindex()\n"
     ]
    }
   ],
   "source": [
    "rmm = rmm.convert_calendar('noleap')\n",
    "rmm[\"time\"] = rmm.indexes['time'].to_datetimeindex()\n",
    "rmm[\"time\"] = rmm.indexes['time'].normalize()"
   ]
  },
  {
   "cell_type": "code",
   "execution_count": 18,
   "id": "9018555f-1c15-4143-bcdc-69f19567e40c",
   "metadata": {},
   "outputs": [],
   "source": [
    "def is_djf(month):\n",
    "    return (month >= 1) & (month <= 2) | (month == 12)\n",
    "def is_djfm(month):\n",
    "    return (month >= 1) & (month <= 3) | (month == 12)\n",
    "def is_jfm(month):\n",
    "    return (month >= 1) & (month <= 3) "
   ]
  },
  {
   "cell_type": "code",
   "execution_count": 19,
   "id": "5a08fdee-f202-4671-87b4-94ef8651307b",
   "metadata": {},
   "outputs": [],
   "source": [
    "rmm_Idx_djf = rmm.isel(time = is_djfm(rmm[\"time.month\"])); min_amp = 1.5\n",
    "\n",
    "phases_dict = {}\n",
    "phases_dict[\"1\"] = np.argwhere((rmm_Idx_djf.Phase.values == 1) & (rmm_Idx_djf.Amplitude.values > min_amp))\n",
    "phases_dict[\"2\"] = np.argwhere((rmm_Idx_djf.Phase.values == 2) & (rmm_Idx_djf.Amplitude.values > min_amp))\n",
    "phases_dict[\"3\"] = np.argwhere((rmm_Idx_djf.Phase.values == 3) & (rmm_Idx_djf.Amplitude.values > min_amp))\n",
    "phases_dict[\"4\"] = np.argwhere((rmm_Idx_djf.Phase.values == 4) & (rmm_Idx_djf.Amplitude.values > min_amp))\n",
    "phases_dict[\"5\"] = np.argwhere((rmm_Idx_djf.Phase.values == 5) & (rmm_Idx_djf.Amplitude.values > min_amp))\n",
    "phases_dict[\"6\"] = np.argwhere((rmm_Idx_djf.Phase.values == 6) & (rmm_Idx_djf.Amplitude.values > min_amp))\n",
    "phases_dict[\"7\"] = np.argwhere((rmm_Idx_djf.Phase.values == 7) & (rmm_Idx_djf.Amplitude.values > min_amp))\n",
    "phases_dict[\"8\"] = np.argwhere((rmm_Idx_djf.Phase.values == 8) & (rmm_Idx_djf.Amplitude.values > min_amp))"
   ]
  },
  {
   "attachments": {},
   "cell_type": "markdown",
   "id": "71b57fa1-07e6-4242-b5ef-c7493439980c",
   "metadata": {
    "tags": []
   },
   "source": [
    "### Reading in the GLORYS and ERA5 data files. Files have been preprocessed and combined in order to take advantage of the **dask** feature of xarray. We also remove their seasonal cliamtologies"
   ]
  },
  {
   "cell_type": "code",
   "execution_count": 20,
   "id": "c83d8ed1-978e-4e15-9fdb-470ec4001159",
   "metadata": {},
   "outputs": [
    {
     "name": "stdout",
     "output_type": "stream",
     "text": [
      "CPU times: user 10.2 ms, sys: 1.8 ms, total: 12 ms\n",
      "Wall time: 64.5 ms\n"
     ]
    }
   ],
   "source": [
    "%%time \n",
    "def _preprocess(ds):\n",
    "    return ds[[\"thetao\"]].sel(latitude = slice(-2, 60), longitude = slice(-150, -75), time = slice(\"1993\", \"2018\"))\n",
    "\n",
    "glorys_anomalies = xr.open_mfdataset(\n",
    "        GLORYS_data_dir(\"GLORYS_SST_AnomaliesBandPass.nc\"),\n",
    "        data_vars=\"minimal\",\n",
    "        coords=\"minimal\",\n",
    "        compat=\"override\",\n",
    "        preprocess=_preprocess,\n",
    "        parallel=True,\n",
    "        chunks={\"time\":320, \"latitude\":-1, \"longitude\":-1, \"depth\":1},\n",
    "        engine=\"netcdf4\")\n",
    "glorys_anomalies = glorys_anomalies.sel(time = rmm.time.values)"
   ]
  },
  {
   "cell_type": "code",
   "execution_count": 21,
   "id": "136c3a6b-49d1-4c6a-b2dc-ea04039f3bce",
   "metadata": {},
   "outputs": [],
   "source": [
    "def _preprocess_ERA5(ds):\n",
    "    return ds.sel(latitude = slice(60, -2)).sel(longitude = slice(-150, -75)).sel(time = slice(\"1993\", \"2018\"))\n",
    "\n",
    "era5_anomalies = xr.open_mfdataset(GLORYS_data_dir(\"ERA5_AnomaliesBandPass.nc\"), \n",
    "        data_vars=\"minimal\", coords=\"minimal\",\n",
    "        compat=\"override\", preprocess=_preprocess_ERA5,\n",
    "        parallel=True, chunks={\"longitude\": -1, \"latitude\":-1, \"time\":320}, engine=\"netcdf4\")\n",
    "\n",
    "era5_anomalies = era5_anomalies.sel(time = rmm.time.values)"
   ]
  },
  {
   "cell_type": "code",
   "execution_count": 22,
   "id": "dd5404a0-b791-4c20-8917-7371d599a034",
   "metadata": {},
   "outputs": [],
   "source": [
    "def _preprocess_ERA5(ds):\n",
    "    return ds.sel(latitude = slice(60, -2)).sel(longitude = slice(-150, -75)).sel(time = slice(\"1993\", \"2018\"))\n",
    "\n",
    "era5_IVT_anomalies = xr.open_mfdataset(GLORYS_data_dir(\"ERA5_WaterAnomaliesBandPass.nc\"), \n",
    "        data_vars=\"minimal\", coords=\"minimal\",\n",
    "        compat=\"override\", preprocess=_preprocess_ERA5,\n",
    "        parallel=True, chunks={\"longitude\": -1, \"latitude\":-1, \"time\":320}, engine=\"netcdf4\")\n",
    "\n",
    "era5_IVT_anomalies = era5_IVT_anomalies.sel(time = rmm.time.values)\n",
    "era5_IVT_anomalies = era5_IVT_anomalies.rename({\"p71.162\":\"IVTE\", \"p72.162\":\"IVTN\"})"
   ]
  },
  {
   "cell_type": "code",
   "execution_count": 23,
   "id": "d53f6f9b-0da0-48f3-af88-f506a272921e",
   "metadata": {},
   "outputs": [],
   "source": [
    "DJF_phases = {}\n",
    "var_keys = [\"SST\", \"Precip\", \"TCWV\", \"z500\", \"IVTE\", \"IVTN\"]\n",
    "for key in var_keys:\n",
    "    DJF_phases[key] = {}"
   ]
  },
  {
   "cell_type": "code",
   "execution_count": 24,
   "id": "2969e164-ddf6-4b8b-b7dd-e365ff70e3a4",
   "metadata": {},
   "outputs": [
    {
     "name": "stdout",
     "output_type": "stream",
     "text": [
      "1 115\n",
      "2 144\n",
      "3 185\n",
      "4 154\n",
      "5 150\n",
      "6 141\n",
      "7 213\n",
      "8 181\n"
     ]
    }
   ],
   "source": [
    "for phase, phase_indices in phases_dict.items():\n",
    "    \n",
    "    num_phases_days = len(phase_indices)\n",
    "    tp_anom_mean = era5_anomalies.tp.isel(time = is_djfm(rmm[\"time.month\"])).isel(time = phase_indices.flatten())\n",
    "    sst_anom_mean = glorys_anomalies.thetao.isel(time = is_djfm(rmm[\"time.month\"])).isel(time = phase_indices.flatten())\n",
    "    tcwv_anom_mean = era5_anomalies.tcwv.isel(time = is_djfm(rmm[\"time.month\"])).isel(time = phase_indices.flatten())\n",
    "    z500_anom_mean = era5_anomalies.z.isel(time = is_djfm(rmm[\"time.month\"])).isel(time = phase_indices.flatten())\n",
    "    IVTE_anom_mean = era5_IVT_anomalies.IVTE.isel(time = is_djfm(rmm[\"time.month\"])).isel(time = phase_indices.flatten())\n",
    "    IVTN_anom_mean = era5_IVT_anomalies.IVTN.isel(time = is_djfm(rmm[\"time.month\"])).isel(time = phase_indices.flatten())\n",
    "\n",
    "    DJF_phases[\"SST\"][phase] = sst_anom_mean\n",
    "    DJF_phases[\"Precip\"][phase] = tp_anom_mean\n",
    "    DJF_phases[\"TCWV\"][phase] = tcwv_anom_mean\n",
    "    DJF_phases[\"z500\"][phase] = z500_anom_mean / 9.80\n",
    "    DJF_phases[\"IVTE\"][phase] = IVTE_anom_mean\n",
    "    DJF_phases[\"IVTN\"][phase] = IVTN_anom_mean\n",
    "    print(phase, len(phase_indices))"
   ]
  },
  {
   "cell_type": "code",
   "execution_count": 25,
   "id": "8002a9ea-705a-433f-ad7c-771c675253f1",
   "metadata": {},
   "outputs": [
    {
     "name": "stdout",
     "output_type": "stream",
     "text": [
      "1\n",
      "2\n",
      "3\n",
      "4\n",
      "5\n",
      "6\n",
      "7\n",
      "8\n"
     ]
    }
   ],
   "source": [
    "for phase, phase_indices in phases_dict.items():\n",
    "    print(phase)\n",
    "    DJF_phases[\"SST\"][phase] = DJF_phases[\"SST\"][phase].compute()\n",
    "    DJF_phases[\"Precip\"][phase] = DJF_phases[\"Precip\"][phase].compute()\n",
    "    DJF_phases[\"TCWV\"][phase] = DJF_phases[\"TCWV\"][phase].compute()\n",
    "    DJF_phases[\"z500\"][phase] = DJF_phases[\"z500\"][phase].compute()\n",
    "    DJF_phases[\"IVTE\"][phase] = DJF_phases[\"IVTE\"][phase].compute()\n",
    "    DJF_phases[\"IVTN\"][phase] = DJF_phases[\"IVTN\"][phase].compute()"
   ]
  },
  {
   "attachments": {},
   "cell_type": "markdown",
   "id": "6969a64c-299b-42a5-8c36-8b3ceeae175e",
   "metadata": {
    "tags": []
   },
   "source": [
    "## Getting the $\\pm$ 3 days view for phase 5"
   ]
  },
  {
   "cell_type": "code",
   "execution_count": 26,
   "id": "8b4bc682-72cc-4db3-895b-c0cec3214b9a",
   "metadata": {},
   "outputs": [],
   "source": [
    "# SST_DFJ_phase4_dict = {}\n",
    "# precip_DFJ_phase4_dict = {}\n",
    "# tcwv_DFJ_phase4_dict = {}\n",
    "# z500_DFJ_phase4_dict = {}\n",
    "# IVTE_DFJ_phase4_dict = {}\n",
    "# IVTN_DFJ_phase4_dict = {}\n",
    "\n",
    "# day_labels = np.array([-14, -7, 0, 7, 14])\n",
    "# day_range = range(0, len(day_labels))\n",
    "# renameindex = lambda x: x.reset_index(['time']).rename({'time': 'day'}).assign_coords(day = day_labels)\n",
    "\n",
    "# SST_DFJ_phase4_dict[\"4\"] = xr.zeros_like(renameindex(glorys_anomalies.thetao.isel(time = day_range)))\n",
    "# precip_DFJ_phase4_dict[\"4\"] = xr.zeros_like(renameindex(era5_anomalies.tp.isel(time = day_range)))\n",
    "# tcwv_DFJ_phase4_dict[\"4\"] = xr.zeros_like(renameindex(era5_anomalies.tcwv.isel(time = day_range)))\n",
    "# z500_DFJ_phase4_dict[\"4\"] = xr.zeros_like(renameindex(era5_anomalies.z.isel(time = day_range)))\n",
    "# IVTE_DFJ_phase4_dict[\"4\"] = xr.zeros_like(renameindex(era5_IVT_anomalies.IVTE.isel(time = day_range)))\n",
    "# IVTN_DFJ_phase4_dict[\"4\"] = xr.zeros_like(renameindex(era5_IVT_anomalies.IVTN.isel(time = day_range)))"
   ]
  },
  {
   "cell_type": "code",
   "execution_count": 17,
   "id": "c41bcfdc-6248-4f2e-a932-47f2f547d615",
   "metadata": {},
   "outputs": [
    {
     "name": "stdout",
     "output_type": "stream",
     "text": [
      "4 154\n"
     ]
    }
   ],
   "source": [
    "# phase = \"4\"\n",
    "# phase_indices = phases_dict[phase]\n",
    "# num_phases_days = len(phase_indices)\n",
    "# for idx in phase_indices:\n",
    "#     dayindices = day_labels + idx[0]\n",
    "#     maxtimen = len(era5_anomalies.tp.isel(time = is_djfm(rmm[\"time.month\"])))\n",
    "#     if (np.max(dayindices) < maxtimen) & (np.min(dayindices) > 0):\n",
    "#         tp_anom_mean = renameindex(era5_anomalies.tp.isel(time = is_djfm(rmm[\"time.month\"])).isel(time = dayindices))\n",
    "#         sst_anom_mean = renameindex(glorys_anomalies.thetao.isel(time = is_djfm(rmm[\"time.month\"])).isel(time = dayindices))\n",
    "#         tcwv_anom_mean = renameindex(era5_anomalies.tcwv.isel(time = is_djfm(rmm[\"time.month\"])).isel(time = dayindices))\n",
    "#         z500_anom_mean = renameindex(era5_anomalies.isel(time = is_djfm(rmm[\"time.month\"])).z.isel(time = dayindices))\n",
    "#         IVTE_anom_mean = renameindex(era5_IVT_anomalies.IVTE.isel(time = is_djfm(rmm[\"time.month\"])).isel(time = dayindices))\n",
    "#         IVTN_anom_mean = renameindex(era5_IVT_anomalies.IVTN.isel(time = is_djfm(rmm[\"time.month\"])).isel(time = dayindices))\n",
    "\n",
    "#         SST_DFJ_phase4_dict[phase] += sst_anom_mean / num_phases_days\n",
    "#         precip_DFJ_phase4_dict[phase] += tp_anom_mean / num_phases_days\n",
    "#         tcwv_DFJ_phase4_dict[phase] += tcwv_anom_mean/ num_phases_days\n",
    "#         IVTE_DFJ_phase4_dict[phase] += IVTE_anom_mean/ num_phases_days\n",
    "#         IVTN_DFJ_phase4_dict[phase] += IVTN_anom_mean/ num_phases_days\n",
    "#         z500_DFJ_phase4_dict[phase] += (z500_anom_mean / 1000) / num_phases_days\n",
    "# print(phase, len(phase_indices))"
   ]
  },
  {
   "cell_type": "code",
   "execution_count": 27,
   "id": "c980418f-98c8-4aae-ad00-305a1dadd0ee",
   "metadata": {},
   "outputs": [],
   "source": [
    "# #constructing the full dictionary\n",
    "# phase = \"4\"\n",
    "# DJF_phase4_dict = {}\n",
    "# var_keys = [\"SST\", \"Precip\", \"TCWV\", \"z500\", \"IVTE\", \"IVTN\"]\n",
    "# for key in var_keys:\n",
    "#     DJF_phase4_dict[key] = {}\n",
    "# DJF_phase4_dict[\"SST\"] = SST_DFJ_phase4_dict[phase].compute()\n",
    "# DJF_phase4_dict[\"Precip\"] = precip_DFJ_phase4_dict[phase].compute()\n",
    "# DJF_phase4_dict[\"TCWV\"] = tcwv_DFJ_phase4_dict[phase].compute()\n",
    "# DJF_phase4_dict[\"z500\"] = z500_DFJ_phase4_dict[phase].compute() \n",
    "# DJF_phase4_dict[\"IVTE\"] = IVTE_DFJ_phase4_dict[phase].compute() \n",
    "# DJF_phase4_dict[\"IVTN\"] = IVTN_DFJ_phase4_dict[phase].compute() "
   ]
  },
  {
   "cell_type": "code",
   "execution_count": 28,
   "id": "680907e3-0a03-4ccf-9717-c697fa6141d7",
   "metadata": {},
   "outputs": [
    {
     "name": "stdout",
     "output_type": "stream",
     "text": [
      "dir already exists\n"
     ]
    }
   ],
   "source": [
    "# Store data (serialize)\n",
    "INDEX_TYPE = \"RMM\"\n",
    "indexdir = INDEX_TYPE + \"_Phases\"\n",
    "try:\n",
    "    os.mkdir(GLORYS_data_dir(indexdir))\n",
    "except:\n",
    "    print(\"dir already exists\")\n",
    "    \n",
    "import pickle\n",
    "\n",
    "with open(GLORYS_data_dir(INDEX_TYPE + \"_Phases/Composites.pickle\"), 'wb') as handle:\n",
    "    pickle.dump(DJF_phases, handle, protocol=pickle.HIGHEST_PROTOCOL)\n",
    "# Store data (serialize)\n",
    "# with open(GLORYS_data_dir(INDEX_TYPE + \"_Phases/CompositesPhase4.pickle\"), 'wb') as handle:\n",
    "#     pickle.dump(DJF_phase4_dict, handle, protocol=pickle.HIGHEST_PROTOCOL)\n",
    "# Store data (serialize)\n",
    "with open(GLORYS_data_dir(INDEX_TYPE + \"_Phases/IndexPhases.pickle\"), 'wb') as handle:\n",
    "    pickle.dump(phases_dict, handle, protocol=pickle.HIGHEST_PROTOCOL)"
   ]
  },
  {
   "cell_type": "code",
   "execution_count": null,
   "id": "4393a442-801b-45ec-b704-88bd00846e41",
   "metadata": {},
   "outputs": [],
   "source": []
  }
 ],
 "metadata": {
  "kernelspec": {
   "display_name": "Python (Atmospheric Rivers)",
   "language": "python",
   "name": "atm_rivers"
  },
  "language_info": {
   "codemirror_mode": {
    "name": "ipython",
    "version": 3
   },
   "file_extension": ".py",
   "mimetype": "text/x-python",
   "name": "python",
   "nbconvert_exporter": "python",
   "pygments_lexer": "ipython3",
   "version": "3.10.10"
  }
 },
 "nbformat": 4,
 "nbformat_minor": 5
}

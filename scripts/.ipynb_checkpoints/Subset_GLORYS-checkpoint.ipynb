{
 "cells": [
  {
   "cell_type": "markdown",
   "id": "0f0f1a51-ad0f-4694-9e19-44016f728430",
   "metadata": {},
   "source": [
    "### The purpose of this notebook to is to recreate the regress the SSH in GLORYS onto the CWI developed in Amaya et al. (2022)"
   ]
  },
  {
   "cell_type": "code",
   "execution_count": 2,
   "id": "b2669743-66c8-426d-a957-9cfd6d15d446",
   "metadata": {},
   "outputs": [],
   "source": [
    "import os\n",
    "os.chdir('/vortexfs1/home/anthony.meza/Atmospheric Rivers and Waves')\n",
    "plotsdir = lambda x=\"\": \"/vortexfs1/home/anthony.meza/Atmospheric Rivers and Waves/plots/\" + x\n",
    "GLORYS_dir = lambda x=\"\": \"/vortexfs1/home/anthony.meza/GLORYS_data\" + x\n",
    "GLORYS_process_dir = lambda x=\"\": \"/vortexfs1/home/anthony.meza/Atmospheric Rivers and Waves/GLORYS_processed/\" + x"
   ]
  },
  {
   "cell_type": "code",
   "execution_count": 3,
   "id": "c6be779b",
   "metadata": {},
   "outputs": [],
   "source": [
    "from help_funcs import * \n",
    "# from eofs.xarray import Eof\n",
    "import cartopy.crs as ccrs\n",
    "import cartopy.feature as cfeature\n",
    "import importlib\n",
    "import xarray as xr\n",
    "# importlib.reload(xr)\n",
    "import seaborn as sns\n",
    "import pandas as pd\n",
    "import cmocean.cm as cm\n",
    "import netCDF4 as nc\n",
    "from pathlib import Path\n",
    "from natsort import natsorted\n",
    "import matplotlib.pyplot as plt\n",
    "import gsw\n",
    "import gc"
   ]
  },
  {
   "cell_type": "code",
   "execution_count": 4,
   "id": "eb35cbe2-e913-4cce-a37d-2722db8dcfe4",
   "metadata": {},
   "outputs": [],
   "source": [
    "from multiprocessing import Pool\n",
    "import os \n",
    "import multiprocessing\n",
    "from os.path import exists"
   ]
  },
  {
   "cell_type": "code",
   "execution_count": 5,
   "id": "df50d9b7-acb6-4ebb-a48c-57f830d4597f",
   "metadata": {},
   "outputs": [],
   "source": [
    "sns.set_context(\"notebook\")"
   ]
  },
  {
   "cell_type": "code",
   "execution_count": 6,
   "id": "56d37542",
   "metadata": {},
   "outputs": [],
   "source": [
    "def rm_each_month_mean(ds):\n",
    "    xy_mean = ds[\"thetao\"].mean(dim=['latitude', 'longitude'], skipna=True)\n",
    "    z_mean = xy_mean.mean(dim = \"depth\")\n",
    "    return xy_mean - z_mean\n",
    "def remove_seasonal(ds):\n",
    "    climatology = ds.groupby(\"time.month\").mean(\"time\")\n",
    "    anomalies = ds.groupby(\"time.month\") - climatology\n",
    "    return anomalies.drop(\"month\")\n",
    "def remove_daily_climatology(ds):\n",
    "    climatology = ds.groupby(\"time.dayofyear\").mean(\"time\")\n",
    "    anomalies = ds.groupby(\"time.dayofyear\") - climatology\n",
    "    return anomalies.drop(\"dayofyear\")\n",
    "def remove_season_mean(ds):\n",
    "    climatology = ds.groupby(\"time.season\").mean(\"time\")\n",
    "    anomalies = ds.groupby(\"time.season\") - climatology\n",
    "    return anomalies.drop(\"season\")\n"
   ]
  },
  {
   "cell_type": "code",
   "execution_count": 8,
   "id": "8bf88c14-ee67-4e43-838f-dbce42a34e2a",
   "metadata": {},
   "outputs": [
    {
     "name": "stdout",
     "output_type": "stream",
     "text": [
      "CPU times: user 3 µs, sys: 0 ns, total: 3 µs\n",
      "Wall time: 5.72 µs\n"
     ]
    }
   ],
   "source": [
    "%time\n",
    "from pathlib import Path\n",
    "from natsort import natsorted\n",
    "# GLORYS_dir = r\"/vortexfs1/home/anthony.meza/GLORYS_data\" \n",
    "results = [str(result) for result in list(Path(GLORYS_dir()).rglob(\"*.[nN][cC]\"))] #get all files\n",
    "results = natsorted(results) #sort all files \n",
    "\n",
    "years = natsorted(list(set([result[41:45] for result in results])))\n",
    "months = natsorted(['01', '02', '03', '04', '05', '06', '07', '08', '09', '10', '11', '12'])"
   ]
  },
  {
   "cell_type": "code",
   "execution_count": 11,
   "id": "f10227a3-403b-451d-ae6b-896fe36301ad",
   "metadata": {},
   "outputs": [
    {
     "data": {
      "text/plain": [
       "22"
      ]
     },
     "execution_count": 11,
     "metadata": {},
     "output_type": "execute_result"
    }
   ],
   "source": [
    "gc.collect()\n"
   ]
  },
  {
   "cell_type": "code",
   "execution_count": 12,
   "id": "2219901e-2b4b-4136-98f5-d2eabfca3e52",
   "metadata": {
    "tags": []
   },
   "outputs": [],
   "source": [
    "def read_ds_ocn(fname): #very little memory footprint, 1 day = 500kib\n",
    "    with xr.open_dataset(fname) as ds:\n",
    "        ds_new = ds[[\"thetao\", \"so\"]].sel(depth = 0, method = \"nearest\")\n",
    "        ds_new = ds_new.sel(latitude = slice(-2, 60), longitude = slice(-140, -75) )\n",
    "        return ds_new\n",
    "    \n",
    "def read_GLORYS_subset(years, read_ocn):\n",
    "    n_cores = 5\n",
    "    \n",
    "    for year in years:\n",
    "        print(year)\n",
    "        files = np.empty(0, dtype = str)\n",
    "        for month in months:\n",
    "            file_path = GLORYS_dir() + \"/\" + year + \"/\" + month\n",
    "            file_list = natsorted([str(result) for result in list(Path(GLORYS_dir() + \"/\" + year + \"/\" + month + \"/\").rglob(\"*.[nN][cC]\"))])\n",
    "            files = np.concatenate([files, file_list])\n",
    "        files = natsorted([str(f) for f in files])\n",
    "        if __name__ == '__main__':\n",
    "            with Pool(n_cores) as p:\n",
    "                datasets = p.map(read_ocn, files)\n",
    "        dset = xr.concat(datasets, dim = \"time\")\n",
    "        dset.to_netcdf(GLORYS_process_dir(\"GLORYS_Data_\" + year + \".nc\"), format = \"NETCDF4\")\n",
    "        gc.collect()\n",
    "    "
   ]
  },
  {
   "cell_type": "code",
   "execution_count": 13,
   "id": "406b81af-8a07-418c-95bd-1f6c4b1a3fe2",
   "metadata": {},
   "outputs": [
    {
     "name": "stdout",
     "output_type": "stream",
     "text": [
      "1996\n",
      "1997\n"
     ]
    },
    {
     "ename": "NameError",
     "evalue": "name 'dsets' is not defined",
     "output_type": "error",
     "traceback": [
      "\u001b[0;31m---------------------------------------------------------------------------\u001b[0m",
      "\u001b[0;31mNameError\u001b[0m                                 Traceback (most recent call last)",
      "Cell \u001b[0;32mIn [13], line 2\u001b[0m\n\u001b[1;32m      1\u001b[0m \u001b[38;5;66;03m# test = read_ds_ocn(results[0])\u001b[39;00m\n\u001b[0;32m----> 2\u001b[0m test \u001b[38;5;241m=\u001b[39m \u001b[43mread_GLORYS_subset\u001b[49m\u001b[43m(\u001b[49m\u001b[43m[\u001b[49m\u001b[38;5;124;43m\"\u001b[39;49m\u001b[38;5;124;43m1996\u001b[39;49m\u001b[38;5;124;43m\"\u001b[39;49m\u001b[43m,\u001b[49m\u001b[43m \u001b[49m\u001b[38;5;124;43m\"\u001b[39;49m\u001b[38;5;124;43m1997\u001b[39;49m\u001b[38;5;124;43m\"\u001b[39;49m\u001b[43m]\u001b[49m\u001b[43m,\u001b[49m\u001b[43m \u001b[49m\u001b[43mread_ds_ocn\u001b[49m\u001b[43m)\u001b[49m\n",
      "Cell \u001b[0;32mIn [12], line 25\u001b[0m, in \u001b[0;36mread_GLORYS_subset\u001b[0;34m(years, read_ocn)\u001b[0m\n\u001b[1;32m     22\u001b[0m     dset\u001b[38;5;241m.\u001b[39mto_netcdf(GLORYS_process_dir(\u001b[38;5;124m\"\u001b[39m\u001b[38;5;124mGLORYS_CALI.nc\u001b[39m\u001b[38;5;124m\"\u001b[39m), \u001b[38;5;28mformat\u001b[39m \u001b[38;5;241m=\u001b[39m \u001b[38;5;124m\"\u001b[39m\u001b[38;5;124mNETCDF4\u001b[39m\u001b[38;5;124m\"\u001b[39m)\n\u001b[1;32m     23\u001b[0m     gc\u001b[38;5;241m.\u001b[39mcollect()\n\u001b[0;32m---> 25\u001b[0m \u001b[38;5;28;01mreturn\u001b[39;00m \u001b[43mdsets\u001b[49m\n",
      "\u001b[0;31mNameError\u001b[0m: name 'dsets' is not defined"
     ]
    }
   ],
   "source": [
    "# test = read_ds_ocn(results[0])\n",
    "test = read_GLORYS_subset(years, read_ds_ocn) "
   ]
  }
 ],
 "metadata": {
  "kernelspec": {
   "display_name": "notebook_env",
   "language": "python",
   "name": "notebook_env"
  },
  "language_info": {
   "codemirror_mode": {
    "name": "ipython",
    "version": 3
   },
   "file_extension": ".py",
   "mimetype": "text/x-python",
   "name": "python",
   "nbconvert_exporter": "python",
   "pygments_lexer": "ipython3",
   "version": "3.10.8"
  }
 },
 "nbformat": 4,
 "nbformat_minor": 5
}

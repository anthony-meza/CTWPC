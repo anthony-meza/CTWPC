{
 "cells": [
  {
   "cell_type": "code",
   "execution_count": 1,
   "id": "b2669743-66c8-426d-a957-9cfd6d15d446",
   "metadata": {},
   "outputs": [],
   "source": [
    "import os\n",
    "os.chdir('/vortexfs1/home/anthony.meza/Atmospheric Rivers and Waves')"
   ]
  },
  {
   "cell_type": "code",
   "execution_count": 13,
   "id": "c6be779b",
   "metadata": {},
   "outputs": [],
   "source": [
    "from help_funcs import * \n",
    "import cartopy.crs as ccrs\n",
    "import cartopy.feature as cfeature\n",
    "\n",
    "import gsw\n",
    "\n",
    "import pandas as pd\n",
    "import xarray as xr\n",
    "import numpy as np\n",
    "import netCDF4 as nc\n",
    "\n",
    "import cmocean.cm as cm\n",
    "import matplotlib.pyplot as plt\n",
    "from matplotlib.animation import FuncAnimation\n",
    "import seaborn as sns\n",
    "\n",
    "from multiprocessing import Pool\n",
    "import multiprocessing\n",
    "from os.path import exists\n",
    "from pathlib import Path\n",
    "from natsort import natsorted\n",
    "import importlib\n",
    "import gc\n"
   ]
  },
  {
   "cell_type": "code",
   "execution_count": 3,
   "id": "df50d9b7-acb6-4ebb-a48c-57f830d4597f",
   "metadata": {},
   "outputs": [],
   "source": [
    "sns.set_context(\"notebook\")"
   ]
  },
  {
   "cell_type": "code",
   "execution_count": 4,
   "id": "5bb037e7-0333-45a1-a229-506345197e2f",
   "metadata": {},
   "outputs": [
    {
     "name": "stdout",
     "output_type": "stream",
     "text": [
      "CPU times: user 169 ms, sys: 22.7 ms, total: 192 ms\n",
      "Wall time: 266 ms\n"
     ]
    }
   ],
   "source": [
    "%%time\n",
    "GLORYS_dir = r\"/vortexfs1/home/anthony.meza/GLORYS_data\" \n",
    "results = [str(result) for result in list(Path(GLORYS_dir).rglob(\"*.[nN][cC]\"))] #get all files\n",
    "results = natsorted(results) #sort all files \n",
    "\n",
    "years = natsorted(list(set([result[41:45] for result in results])))\n",
    "months = natsorted(['01', '02', '03', '04', '05', '06', '07', '08', '09', '10', '11', '12'])"
   ]
  },
  {
   "cell_type": "code",
   "execution_count": 14,
   "id": "a2d09b78-a211-4941-9c2d-60c1da40b6dc",
   "metadata": {},
   "outputs": [],
   "source": [
    "def remove_seasonal(ds):\n",
    "    climatology = ds.groupby(\"time.month\").mean(\"time\")\n",
    "    anomalies = ds.groupby(\"time.month\") - climatology\n",
    "    return anomalies.drop(\"month\")\n",
    "\n",
    "def timecat(fnames):\n",
    "    datasets = xr.concat(fnames, dim = \"time\", data_vars = \"minimal\", coords = \"minimal\")\n",
    "    datasets = datasets.sortby(\"time\")\n",
    "    return datasets\n",
    "\n",
    "def read_subset(years, read_atm):\n",
    "    n_cores = multiprocessing.cpu_count() - 5\n",
    "    file_path = \"ERA5_data\"\n",
    "    ERA5_results = natsorted([str(result) for result in list(Path(file_path).rglob(\"*.[nN][cC]\"))])[:-1]\n",
    "    files = natsorted([str(f) for f in ERA5_results if f[-7:-3] in years])\n",
    "        \n",
    "    dsets = []\n",
    "    if __name__ == '__main__':\n",
    "        with Pool(n_cores) as p:\n",
    "            datasets = p.map(read_atm, files)\n",
    "    datasets = [d for d in datasets]\n",
    "    dsets = dsets + datasets #about 50 gigs of data!! \n",
    "    \n",
    "    return dsets"
   ]
  },
  {
   "cell_type": "code",
   "execution_count": 15,
   "id": "46458bec-83ae-455f-8643-ccbe11fd2f94",
   "metadata": {},
   "outputs": [],
   "source": [
    "def plot_spatial_var(ax, data, LONS, LATS, bounds, levels):\n",
    "    cf = ax.contourf(LONS, LATS, data, \n",
    "                      vmin = -bounds, vmax = bounds, levels = levels, \n",
    "                      cmap=cm.curl, extend = \"both\")\n",
    "    ax.coastlines()\n",
    "    gl = ax.gridlines(crs=ccrs.PlateCarree(), draw_labels=True, alpha=0.0)\n",
    "    gl.top_labels = False\n",
    "    gl.right_labels = False\n",
    "    return cf \n"
   ]
  },
  {
   "cell_type": "markdown",
   "id": "c56791b4",
   "metadata": {
    "tags": []
   },
   "source": [
    "### Get NINO 3.4 Index"
   ]
  },
  {
   "cell_type": "code",
   "execution_count": 16,
   "id": "499982a8",
   "metadata": {},
   "outputs": [],
   "source": [
    "df = pd.read_csv(\"nino34.long.csv\", index_col=0)\n",
    "dates_df = df.astype(\"datetime64[D]\")\n",
    "\n",
    "for year in range(0, len(df.index)):\n",
    "    for month in range(1, len(df.columns)+1):\n",
    "        dates_df.iloc[year, month - 1] = np.datetime64(pd.Timestamp(df.index[year], month, 15), \"D\")\n",
    "NINO34_ds = xr.DataArray(\n",
    "            data=df.values.flatten(),\n",
    "            dims=[\"time\"],\n",
    "            coords=dict(time=dates_df.values.flatten()))\n",
    "NINO34 = NINO34_ds.sel(time = slice(\"1993\", None))"
   ]
  },
  {
   "cell_type": "markdown",
   "id": "669cd922-9735-4baf-8897-342c10afc95c",
   "metadata": {},
   "source": [
    "### Make some anomaly movies "
   ]
  },
  {
   "cell_type": "code",
   "execution_count": 45,
   "id": "94ef751f-ad48-4442-85d1-b276722a94c7",
   "metadata": {},
   "outputs": [],
   "source": [
    "def read_ds_atm(fname): #very little memory footprint, 1 day = 500kib\n",
    "    with xr.open_dataset(fname) as ds:\n",
    "        ds_new = ds.sel(longitude = slice(-125, -115), latitude = slice(50, 30))\n",
    "        return ds_new"
   ]
  },
  {
   "cell_type": "code",
   "execution_count": 46,
   "id": "95a2945f-33da-464a-a234-3fa2b6d9a3f9",
   "metadata": {},
   "outputs": [
    {
     "name": "stdout",
     "output_type": "stream",
     "text": [
      "CPU times: user 9 µs, sys: 0 ns, total: 9 µs\n",
      "Wall time: 11.9 µs\n"
     ]
    }
   ],
   "source": [
    "%%time \n",
    "all_years = [[\"1998\", \"1999\"], [\"2002\", \"2003\"],\n",
    "             [\"2006\", \"2007\"], [\"2009\", \"2010\"],\n",
    "             [\"2015\", \"2016\"]]\n",
    "\n",
    "all_slices = [slice(\"1998\", \"1998.35\"), slice(\"2003\", \"2003.35\"),\n",
    "              slice(\"2007\", \"2007.35\"), slice(\"2010\", \"2010.35\"),\n",
    "              slice(\"2016\", \"2016.35\")]\n",
    "\n",
    "all_events = [\"97NinoTP\", \"02NinoTP\", \n",
    "              \"06NinoTP\", \"09NinoTP\", \n",
    "              \"15NinoTP\"]\n",
    "nevents = len(all_events)"
   ]
  },
  {
   "cell_type": "code",
   "execution_count": 47,
   "id": "3da39e9b-c337-439b-96e5-d5a09df5dc97",
   "metadata": {},
   "outputs": [],
   "source": [
    "def average_years(yrs, time_slice, event_name):\n",
    "    NINO = read_subset(years, read_ds_atm)\n",
    "    gc.collect()\n",
    "    NINO_ds = timecat(NINO)\n",
    "\n",
    "    tp_NINO = NINO_ds.tp\n",
    "    tp_NINO = 24 * tp_NINO.resample(time=\"1D\").mean() #resample from 1 hr to 1 day\n",
    "    tp_NINO = tp_NINO.rolling(time=21, center=True).mean() #21-day rolling average\n",
    "\n",
    "    tp_NINO = 1e3 * tp_NINO\n",
    "    tp_NINO = remove_seasonal(tp_NINO).sel(time = time_slice)\n",
    "    tp_NINO = tp_NINO.mean(dim = \"time\")\n",
    "    return tp_NINO\n",
    "    "
   ]
  },
  {
   "cell_type": "code",
   "execution_count": 48,
   "id": "fea19531-0f56-42cc-beb2-016bd3f7fe9c",
   "metadata": {},
   "outputs": [
    {
     "name": "stdout",
     "output_type": "stream",
     "text": [
      "97NinoTP\n",
      "02NinoTP\n",
      "06NinoTP\n",
      "09NinoTP\n",
      "15NinoTP\n"
     ]
    }
   ],
   "source": [
    "tp_vars = []\n",
    "for i in range(0, nevents):\n",
    "    yrs = all_years[i]; time_slice=all_slices[i]; event_name = all_events[i]\n",
    "    print(event_name)\n",
    "    ds = average_years(yrs, time_slice, event_name)\n",
    "    tp_vars.append(ds)\n"
   ]
  },
  {
   "cell_type": "code",
   "execution_count": null,
   "id": "7e39a7f7-3176-414d-b0a3-bbe91dfc9062",
   "metadata": {},
   "outputs": [
    {
     "data": {
      "text/plain": [
       "Text(0.5, 0.98, 'Total Precipitation Anomalies \\n (Seasonal Cycle Removed)')"
      ]
     },
     "execution_count": 52,
     "metadata": {},
     "output_type": "execute_result"
    }
   ],
   "source": [
    "fig, ax1 = plt.subplots(ncols = 5, figsize = (30, 10),  subplot_kw = {\"projection\":ccrs.PlateCarree()})\n",
    "bounds = np.max([np.nanmax(np.abs(data)) for data in tp_vars])\n",
    "levels = np.linspace(-1.5, 1.5, 25)\n",
    "\n",
    "for i in range(0, nevents):\n",
    "    ds = tp_vars[i]\n",
    "    data = ds.values\n",
    "    LONS, LATS = np.meshgrid(ds.longitude, ds.latitude)\n",
    "\n",
    "    cf = plot_spatial_var(ax1[i], data, LONS, LATS, bounds, levels)\n",
    "    gc.collect()\n",
    "\n",
    "fig.colorbar(cf, ax = ax1, fraction = 0.03, orientation = \"horizontal\")\n",
    "fig.suptitle(\"Total Precipitation Anomalies \\n (Seasonal Cycle Removed)\")\n"
   ]
  },
  {
   "cell_type": "code",
   "execution_count": null,
   "id": "66cb75d2-5710-4b7e-b9b1-bf89636dde17",
   "metadata": {},
   "outputs": [],
   "source": []
  }
 ],
 "metadata": {
  "kernelspec": {
   "display_name": "notebook_env",
   "language": "python",
   "name": "notebook_env"
  },
  "language_info": {
   "codemirror_mode": {
    "name": "ipython",
    "version": 3
   },
   "file_extension": ".py",
   "mimetype": "text/x-python",
   "name": "python",
   "nbconvert_exporter": "python",
   "pygments_lexer": "ipython3",
   "version": "3.10.8"
  }
 },
 "nbformat": 4,
 "nbformat_minor": 5
}

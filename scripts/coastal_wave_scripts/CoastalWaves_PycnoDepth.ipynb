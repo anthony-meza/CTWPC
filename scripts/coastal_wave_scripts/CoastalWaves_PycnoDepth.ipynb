{
 "cells": [
  {
   "cell_type": "code",
   "execution_count": 1,
   "id": "b2669743-66c8-426d-a957-9cfd6d15d446",
   "metadata": {},
   "outputs": [],
   "source": [
    "import os\n",
    "os.chdir('/vortexfs1/home/anthony.meza/Atmospheric Rivers and Waves')"
   ]
  },
  {
   "cell_type": "code",
   "execution_count": 2,
   "id": "c6be779b",
   "metadata": {},
   "outputs": [],
   "source": [
    "from help_funcs import * \n",
    "# from eofs.xarray import Eof\n",
    "import cartopy.crs as ccrs\n",
    "import cartopy.feature as cfeature\n",
    "import importlib\n",
    "import xarray as xr\n",
    "# importlib.reload(xr)\n",
    "import seaborn as sns\n",
    "import pandas as pd\n",
    "import cmocean.cm as cm\n",
    "import netCDF4 as nc\n",
    "from pathlib import Path\n",
    "from natsort import natsorted\n",
    "import matplotlib.pyplot as plt\n",
    "import gsw"
   ]
  },
  {
   "cell_type": "code",
   "execution_count": 3,
   "id": "eb35cbe2-e913-4cce-a37d-2722db8dcfe4",
   "metadata": {},
   "outputs": [],
   "source": [
    "from multiprocessing import Pool\n",
    "import os \n",
    "import multiprocessing\n",
    "from os.path import exists"
   ]
  },
  {
   "cell_type": "code",
   "execution_count": 4,
   "id": "df50d9b7-acb6-4ebb-a48c-57f830d4597f",
   "metadata": {},
   "outputs": [],
   "source": [
    "sns.set_context(\"notebook\")"
   ]
  },
  {
   "cell_type": "code",
   "execution_count": 5,
   "id": "56d37542",
   "metadata": {},
   "outputs": [],
   "source": [
    "def rm_each_month_mean(ds):\n",
    "    xy_mean = ds[\"thetao\"].mean(dim=['latitude', 'longitude'], skipna=True)\n",
    "    z_mean = xy_mean.mean(dim = \"depth\")\n",
    "    return xy_mean - z_mean\n",
    "def remove_seasonal(ds):\n",
    "    climatology = ds.groupby(\"time.month\").mean(\"time\")\n",
    "    anomalies = ds.groupby(\"time.month\") - climatology\n",
    "    return anomalies.drop(\"month\")"
   ]
  },
  {
   "cell_type": "code",
   "execution_count": 6,
   "id": "a2d09b78-a211-4941-9c2d-60c1da40b6dc",
   "metadata": {},
   "outputs": [],
   "source": [
    "import gsw\n",
    "\n",
    "def sigma0_from_SP_and_pt0(z, SP, pt0, lon = 0, lat = 30):\n",
    "    p = gsw.p_from_z(-abs(z), lat)\n",
    "    SA = gsw.SA_from_SP(SP, p, lon, lat)\n",
    "    CT = gsw.CT_from_pt(SA,pt0)\n",
    "    sigma0 = gsw.sigma0(SA,CT)\n",
    "    return sigma0"
   ]
  },
  {
   "cell_type": "code",
   "execution_count": 7,
   "id": "ae2eddc9-6ca8-40d8-b6a0-db9bc7c3c43f",
   "metadata": {},
   "outputs": [
    {
     "name": "stdout",
     "output_type": "stream",
     "text": [
      "CPU times: user 1 µs, sys: 2 µs, total: 3 µs\n",
      "Wall time: 5.96 µs\n"
     ]
    }
   ],
   "source": [
    "%time\n",
    "from pathlib import Path\n",
    "from natsort import natsorted\n",
    "GLORYS_dir = r\"/vortexfs1/home/anthony.meza/GLORYS_data\" \n",
    "results = [str(result) for result in list(Path(GLORYS_dir).rglob(\"*.[nN][cC]\"))] #get all files\n",
    "results = natsorted(results) #sort all files \n",
    "\n",
    "years = natsorted(list(set([result[41:45] for result in results])))\n",
    "months = natsorted(['01', '02', '03', '04', '05', '06', '07', '08', '09', '10', '11', '12'])"
   ]
  },
  {
   "cell_type": "markdown",
   "id": "c56791b4",
   "metadata": {
    "tags": []
   },
   "source": [
    "### Get NINO 3.4 Index"
   ]
  },
  {
   "cell_type": "code",
   "execution_count": 8,
   "id": "499982a8",
   "metadata": {},
   "outputs": [],
   "source": [
    "df = pd.read_csv(\"nino34.long.csv\", index_col=0)\n",
    "dates_df = df.astype(\"datetime64[D]\")\n",
    "for year in range(0, len(df.index)):\n",
    "    for month in range(1, len(df.columns)+1):\n",
    "        dates_df.iloc[year, month - 1] = np.datetime64(pd.Timestamp(df.index[year], month, 15), \"D\")\n",
    "NINO34_ds = xr.DataArray(\n",
    "            data=df.values.flatten(),\n",
    "            dims=[\"time\"],\n",
    "            coords=dict(time=dates_df.values.flatten()))\n",
    "NINO34 = NINO34_ds.sel(time = slice(\"1993\", None))"
   ]
  },
  {
   "cell_type": "code",
   "execution_count": 9,
   "id": "8609a362-7403-4cf6-be8f-3c2a715eddcc",
   "metadata": {},
   "outputs": [],
   "source": [
    "# theta_anom = remove_seasonal(theta_TS) #pot. temp anomaly\n",
    "# salinity_anom = remove_seasonal(salinity_TS) #salinity anomaly\n",
    "# sigma0_anom = remove_seasonal(sigma0_TS) #salinity anomaly"
   ]
  },
  {
   "cell_type": "markdown",
   "id": "844632a3-8bdc-4f5c-8f7b-de2044664d23",
   "metadata": {
    "tags": []
   },
   "source": [
    "### Doing an EOF on this time period, see if a wave pattern appears along coastline around the time of 97 Nino event. EOF will be done on the 100m temperature "
   ]
  },
  {
   "cell_type": "code",
   "execution_count": 10,
   "id": "94ef751f-ad48-4442-85d1-b276722a94c7",
   "metadata": {},
   "outputs": [],
   "source": [
    "def read_ds_ocn(fname): #very little memory footprint, 1 day = 500kib\n",
    "    with xr.open_dataset(fname) as ds:\n",
    "        ds_new = ds[[\"thetao\", \"so\"]].sel(depth = slice(50, 130))\n",
    "        ds_new = ds_new.sel(longitude = slice(-128, -115), latitude = slice(26, 35))\n",
    "        return ds_new"
   ]
  },
  {
   "cell_type": "code",
   "execution_count": 11,
   "id": "95a2945f-33da-464a-a234-3fa2b6d9a3f9",
   "metadata": {},
   "outputs": [
    {
     "name": "stdout",
     "output_type": "stream",
     "text": [
      "1997\n",
      "1998\n",
      "1999\n",
      "CPU times: user 675 ms, sys: 500 ms, total: 1.18 s\n",
      "Wall time: 13.3 s\n"
     ]
    }
   ],
   "source": [
    "%%time \n",
    "n_cores = multiprocessing.cpu_count() - 5\n",
    "NINO_97 = []\n",
    "for year in [\"1997\", \"1998\", \"1999\"]:\n",
    "    print(year)\n",
    "    files = np.empty(0, dtype = str)\n",
    "    for month in months:\n",
    "        file_path = GLORYS_dir + \"/\" + year + \"/\" + month\n",
    "        file_list = natsorted([str(result) for result in list(Path(GLORYS_dir + \"/\" + year + \"/\" + month + \"/\").rglob(\"*.[nN][cC]\"))])\n",
    "        files = np.concatenate([files, file_list])\n",
    "    files = natsorted([str(f) for f in files])\n",
    "    if __name__ == '__main__':\n",
    "        with Pool(n_cores) as p:\n",
    "            datasets = p.map(read_ds_ocn, files)\n",
    "    datasets = [d for d in datasets]\n",
    "    NINO_97 = NINO_97 + datasets #about 50 gigs of data!! \n",
    "    \n"
   ]
  },
  {
   "cell_type": "code",
   "execution_count": 19,
   "id": "bc86b787-4f23-4a83-bd60-1439b2cc6e12",
   "metadata": {},
   "outputs": [
    {
     "name": "stdout",
     "output_type": "stream",
     "text": [
      "CPU times: user 3.32 s, sys: 1.88 s, total: 5.21 s\n",
      "Wall time: 59.7 s\n"
     ]
    }
   ],
   "source": [
    "%%time \n",
    "NINO_97_ds = xr.concat(NINO_97, dim = \"time\", data_vars = \"minimal\", coords = \"minimal\")\n",
    "NINO_97_ds = NINO_97_ds.sortby(\"time\")"
   ]
  },
  {
   "cell_type": "code",
   "execution_count": 13,
   "id": "837e5b21-6561-490b-9dbd-080d7130fc61",
   "metadata": {},
   "outputs": [],
   "source": [
    "# z = -NINO_97_ds.depth\n",
    "# SP = NINO_97_ds.so\n",
    "# pt0 = NINO_97_ds.thetao\n",
    "# sigma0_NINO97 = sigma0_from_SP_and_pt0(z, SP, pt0)\n",
    "# sigma0_NINO97 = sigma0_NINO97.rename(\"sigma0\")"
   ]
  },
  {
   "cell_type": "code",
   "execution_count": 48,
   "id": "59a50f4d-0849-4d53-8e52-c1d3472428e2",
   "metadata": {},
   "outputs": [],
   "source": [
    "import numpy as np\n",
    "import matplotlib.pyplot as plt\n",
    "from scipy import interpolate\n",
    "nt = len(sigma0_NINO97.time)\n",
    "nd = len(sigma0_NINO97.depth)\n",
    "nlat = len(NINO_97_ds.latitude)\n",
    "nlon = len(NINO_97_ds.longitude)\n",
    "\n",
    "depth = sigma0_NINO97.depth\n",
    "#construct depth grid \n",
    "z_grid = np.zeros((nt, nd, nlat, nlon))\n",
    "for i in range(0, nd):\n",
    "    z_grid[:, i, :, :] = -depth[i]\n",
    "SP = NINO_97_ds.so.values\n",
    "pt0 = NINO_97_ds.thetao.values\n",
    "\n",
    "sigma0 = sigma0_from_SP_and_pt0(z_grid, SP, pt0)\n",
    "\n"
   ]
  },
  {
   "cell_type": "code",
   "execution_count": 109,
   "id": "07a7ede7-b585-4192-aa87-e19cf5d4c0ea",
   "metadata": {},
   "outputs": [
    {
     "name": "stdout",
     "output_type": "stream",
     "text": [
      "0\n",
      "100\n",
      "CPU times: user 6min 39s, sys: 257 ms, total: 6min 39s\n",
      "Wall time: 6min 39s\n"
     ]
    }
   ],
   "source": [
    "%%time \n",
    "from scipy import interpolate \n",
    "\n",
    "D_sigma = np.zeros((nt, nlat, nlon))\n",
    "y = -np.abs(depth)\n",
    "\n",
    "#could possibly parallize this? 3 times faster if using 3 cores would use about 18 gbs of ram \n",
    "for it in range(0, 200):\n",
    "    print(it) if it % 100 == 0 else _\n",
    "    for ilon in range(0, nlon):\n",
    "        for ilat in range(0, nlat):\n",
    "            x = sigma0[it, :, ilat, ilon]\n",
    "            if np.all(np.diff(x) > 0): #checks if monotonic \n",
    "                f = interpolate.interp1d(x, y, axis=0, bounds_error = False, fill_value = np.nan, assume_sorted = True)\n",
    "                D_sigma[it, ilat, ilon] = f(25.0)\n",
    "            else:\n",
    "                D_sigma[it, ilat, ilon] = np.nan"
   ]
  },
  {
   "cell_type": "code",
   "execution_count": 119,
   "id": "7fd5c59b-678f-4616-9396-35f9c14e5350",
   "metadata": {},
   "outputs": [
    {
     "data": {
      "text/plain": [
       "array([[  0.        ,   0.        ,   0.        , ..., -13.00227776,\n",
       "        -13.0121254 , -13.05453613],\n",
       "       [  0.        ,   0.        ,   0.        , ..., -12.79747789,\n",
       "        -12.85658244, -12.78997883],\n",
       "       [  0.        ,   0.        ,   0.        , ..., -12.64216805,\n",
       "        -12.71133086, -12.66081899],\n",
       "       ...,\n",
       "       [  0.        ,   0.        ,   0.        , ...,   0.        ,\n",
       "          0.        ,   0.        ],\n",
       "       [  0.        ,   0.        ,   0.        , ...,   0.        ,\n",
       "          0.        ,   0.        ],\n",
       "       [  0.        ,   0.        ,   0.        , ...,   0.        ,\n",
       "          0.        ,   0.        ]])"
      ]
     },
     "execution_count": 119,
     "metadata": {},
     "output_type": "execute_result"
    }
   ],
   "source": []
  },
  {
   "cell_type": "code",
   "execution_count": 121,
   "id": "865fb5e6-99e5-48c5-a5e3-7ea320e23599",
   "metadata": {},
   "outputs": [
    {
     "name": "stderr",
     "output_type": "stream",
     "text": [
      "MovieWriter imagemagick unavailable; using Pillow instead.\n"
     ]
    },
    {
     "data": {
      "image/png": "[encoded data removed]",
      "text/plain": [
       "<Figure size 700x500 with 2 Axes>"
      ]
     },
     "metadata": {},
     "output_type": "display_data"
    }
   ],
   "source": [
    "import numpy as np\n",
    "from matplotlib import pyplot as plt\n",
    "from matplotlib.animation import FuncAnimation\n",
    "# plt.style.use('seaborn-pastel')\n",
    "\n",
    "NINO34_97 = remove_seasonal(NINO34).interp(time = sigma0_NINO97.time)\n",
    "\n",
    "fig,axes = plt.subplots(figsize = (7, 5),  subplot_kw = {\"projection\":ccrs.PlateCarree()})\n",
    "axes.coastlines()\n",
    "\n",
    "data = np.abs(D_sigma) - np.nanmean(np.abs(D_sigma), axis = 0)\n",
    "\n",
    "times = sigma0_NINO97.time.values\n",
    "times = pd.to_datetime(times).strftime('%Y-%m-%d')\n",
    "\n",
    "LONS, LATS = np.meshgrid(sigma0_NINO97.longitude, sigma0_NINO97.latitude)\n",
    "lbound, ubound = np.nanmin(data), np.nanmax(data)\n",
    "levels = np.linspace(lbound, ubound, 21)\n",
    "cf = axes.contourf(LONS, LATS, data[0, :, :], vmin = lbound, vmax = ubound, levels = levels, cmap=cm.curl, extend = \"both\")\n",
    "fig.colorbar(cf, ax=axes)\n",
    "    \n",
    "def animate(i):\n",
    "    axes.clear()\n",
    "    axes.coastlines()\n",
    "\n",
    "    fontweight = \"normal\" if NINO34_97[i] < 0.5 else \"bold\"\n",
    "    axes.set_title(times[i], fontweight = fontweight)\n",
    "    cf = axes.contourf(LONS, LATS, data[i, :, :], vmin = lbound, vmax = ubound, levels = levels, cmap=cm.curl, extend = \"both\")\n",
    "    return cf\n",
    "anim = FuncAnimation(fig, animate,\n",
    "                               frames=200, interval=10, blit=False)\n",
    "anim.save('sigma25_depth.gif', writer='imagemagick')"
   ]
  },
  {
   "cell_type": "code",
   "execution_count": null,
   "id": "37e760a7-6156-4817-b0ed-d408f70edbc4",
   "metadata": {},
   "outputs": [],
   "source": []
  }
 ],
 "metadata": {
  "kernelspec": {
   "display_name": "notebook_env",
   "language": "python",
   "name": "notebook_env"
  },
  "language_info": {
   "codemirror_mode": {
    "name": "ipython",
    "version": 3
   },
   "file_extension": ".py",
   "mimetype": "text/x-python",
   "name": "python",
   "nbconvert_exporter": "python",
   "pygments_lexer": "ipython3",
   "version": "3.10.8"
  }
 },
 "nbformat": 4,
 "nbformat_minor": 5
}

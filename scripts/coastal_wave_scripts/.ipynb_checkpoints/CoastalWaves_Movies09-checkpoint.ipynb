{
 "cells": [
  {
   "cell_type": "code",
   "execution_count": 1,
   "id": "b2669743-66c8-426d-a957-9cfd6d15d446",
   "metadata": {},
   "outputs": [],
   "source": [
    "import os\n",
    "os.chdir('/vortexfs1/home/anthony.meza/Atmospheric Rivers and Waves')"
   ]
  },
  {
   "cell_type": "code",
   "execution_count": 2,
   "id": "c6be779b",
   "metadata": {},
   "outputs": [],
   "source": [
    "from help_funcs import * \n",
    "# from eofs.xarray import Eof\n",
    "import cartopy.crs as ccrs\n",
    "import cartopy.feature as cfeature\n",
    "import importlib\n",
    "import xarray as xr\n",
    "# importlib.reload(xr)\n",
    "import seaborn as sns\n",
    "import pandas as pd\n",
    "import cmocean.cm as cm\n",
    "import netCDF4 as nc\n",
    "from pathlib import Path\n",
    "from natsort import natsorted\n",
    "import matplotlib.pyplot as plt\n",
    "import gsw"
   ]
  },
  {
   "cell_type": "code",
   "execution_count": 3,
   "id": "eb35cbe2-e913-4cce-a37d-2722db8dcfe4",
   "metadata": {},
   "outputs": [],
   "source": [
    "from multiprocessing import Pool\n",
    "import os \n",
    "import multiprocessing\n",
    "from os.path import exists"
   ]
  },
  {
   "cell_type": "code",
   "execution_count": 4,
   "id": "df50d9b7-acb6-4ebb-a48c-57f830d4597f",
   "metadata": {},
   "outputs": [],
   "source": [
    "sns.set_context(\"notebook\")"
   ]
  },
  {
   "cell_type": "code",
   "execution_count": 5,
   "id": "56d37542",
   "metadata": {},
   "outputs": [],
   "source": [
    "def rm_each_month_mean(ds):\n",
    "    xy_mean = ds[\"thetao\"].mean(dim=['latitude', 'longitude'], skipna=True)\n",
    "    z_mean = xy_mean.mean(dim = \"depth\")\n",
    "    return xy_mean - z_mean\n",
    "def remove_seasonal(ds):\n",
    "    climatology = ds.groupby(\"time.month\").mean(\"time\")\n",
    "    anomalies = ds.groupby(\"time.month\") - climatology\n",
    "    return anomalies.drop(\"month\")"
   ]
  },
  {
   "cell_type": "code",
   "execution_count": 6,
   "id": "a2d09b78-a211-4941-9c2d-60c1da40b6dc",
   "metadata": {},
   "outputs": [],
   "source": [
    "import gsw\n",
    "\n",
    "def sigma0_from_SP_and_pt0(z, SP, pt0, lon = 0, lat = 30):\n",
    "    p = gsw.p_from_z(-np.abs(z), lat)\n",
    "    SA = gsw.SA_from_SP(SP, p, lon, lat)\n",
    "    CT = gsw.CT_from_pt(SA,pt0)\n",
    "    sigma0 = gsw.sigma0(SA,CT)\n",
    "    return sigma0"
   ]
  },
  {
   "cell_type": "code",
   "execution_count": 7,
   "id": "ae2eddc9-6ca8-40d8-b6a0-db9bc7c3c43f",
   "metadata": {},
   "outputs": [
    {
     "name": "stdout",
     "output_type": "stream",
     "text": [
      "CPU times: user 1 µs, sys: 2 µs, total: 3 µs\n",
      "Wall time: 6.44 µs\n"
     ]
    }
   ],
   "source": [
    "%time\n",
    "from pathlib import Path\n",
    "from natsort import natsorted\n",
    "GLORYS_dir = r\"/vortexfs1/home/anthony.meza/GLORYS_data\" \n",
    "results = [str(result) for result in list(Path(GLORYS_dir).rglob(\"*.[nN][cC]\"))] #get all files\n",
    "results = natsorted(results) #sort all files \n",
    "\n",
    "years = natsorted(list(set([result[41:45] for result in results])))\n",
    "months = natsorted(['01', '02', '03', '04', '05', '06', '07', '08', '09', '10', '11', '12'])"
   ]
  },
  {
   "cell_type": "markdown",
   "id": "c56791b4",
   "metadata": {
    "tags": []
   },
   "source": [
    "### Get NINO 3.4 Index"
   ]
  },
  {
   "cell_type": "code",
   "execution_count": 8,
   "id": "499982a8",
   "metadata": {},
   "outputs": [],
   "source": [
    "df = pd.read_csv(\"nino34.long.csv\", index_col=0)\n",
    "dates_df = df.astype(\"datetime64[D]\")\n",
    "for year in range(0, len(df.index)):\n",
    "    for month in range(1, len(df.columns)+1):\n",
    "        dates_df.iloc[year, month - 1] = np.datetime64(pd.Timestamp(df.index[year], month, 15), \"D\")\n",
    "NINO34_ds = xr.DataArray(\n",
    "            data=df.values.flatten(),\n",
    "            dims=[\"time\"],\n",
    "            coords=dict(time=dates_df.values.flatten()))\n",
    "NINO34 = NINO34_ds.sel(time = slice(\"1993\", None))"
   ]
  },
  {
   "cell_type": "markdown",
   "id": "844632a3-8bdc-4f5c-8f7b-de2044664d23",
   "metadata": {
    "tags": []
   },
   "source": [
    "### Doing an EOF on this time period, see if a wave pattern appears along coastline around the time of 97 Nino event. EOF will be done on the 100m temperature "
   ]
  },
  {
   "cell_type": "code",
   "execution_count": 9,
   "id": "94ef751f-ad48-4442-85d1-b276722a94c7",
   "metadata": {},
   "outputs": [],
   "source": [
    "def read_ds_ocn(fname): #very little memory footprint, 1 day = 500kib\n",
    "    with xr.open_dataset(fname) as ds:\n",
    "        ds_new = ds[[\"thetao\", \"so\"]].sel(depth = 75, method = \"nearest\")\n",
    "        ds_new = ds_new.sel(longitude = slice(-124, -105), latitude = slice(25, 40) )\n",
    "        return ds_new"
   ]
  },
  {
   "cell_type": "code",
   "execution_count": 10,
   "id": "95a2945f-33da-464a-a234-3fa2b6d9a3f9",
   "metadata": {},
   "outputs": [
    {
     "name": "stdout",
     "output_type": "stream",
     "text": [
      "2008\n",
      "2009\n",
      "2010\n",
      "CPU times: user 706 ms, sys: 820 ms, total: 1.53 s\n",
      "Wall time: 17.1 s\n"
     ]
    }
   ],
   "source": [
    "%%time \n",
    "n_cores = multiprocessing.cpu_count() - 5\n",
    "NINO_97 = []\n",
    "for year in [\"2008\", \"2009\", \"2010\"]:\n",
    "    print(year)\n",
    "    files = np.empty(0, dtype = str)\n",
    "    for month in months:\n",
    "        file_path = GLORYS_dir + \"/\" + year + \"/\" + month\n",
    "        file_list = natsorted([str(result) for result in list(Path(GLORYS_dir + \"/\" + year + \"/\" + month + \"/\").rglob(\"*.[nN][cC]\"))])\n",
    "        files = np.concatenate([files, file_list])\n",
    "    files = natsorted([str(f) for f in files])\n",
    "    if __name__ == '__main__':\n",
    "        with Pool(n_cores) as p:\n",
    "            datasets = p.map(read_ds_ocn, files)\n",
    "    datasets = [d for d in datasets]\n",
    "    NINO_97 = NINO_97 + datasets #about 50 gigs of data!! \n",
    "    \n"
   ]
  },
  {
   "cell_type": "code",
   "execution_count": null,
   "id": "bc86b787-4f23-4a83-bd60-1439b2cc6e12",
   "metadata": {},
   "outputs": [],
   "source": [
    "%%time \n",
    "NINO_97_ds = xr.concat(NINO_97, dim = \"time\", data_vars = \"minimal\", coords = \"minimal\")\n",
    "NINO_97_ds = NINO_97_ds.sortby(\"time\")"
   ]
  },
  {
   "cell_type": "code",
   "execution_count": null,
   "id": "837e5b21-6561-490b-9dbd-080d7130fc61",
   "metadata": {},
   "outputs": [],
   "source": [
    "z = -NINO_97_ds.depth\n",
    "SP = NINO_97_ds.so\n",
    "pt0 = NINO_97_ds.thetao\n",
    "sigma0_NINO97 = sigma0_from_SP_and_pt0(z, SP, pt0)\n",
    "sigma0_NINO97 = sigma0_NINO97.rename(\"sigma0\")"
   ]
  },
  {
   "cell_type": "code",
   "execution_count": null,
   "id": "52396336-3375-4135-aa8d-7d17f313e577",
   "metadata": {},
   "outputs": [],
   "source": [
    "GLORYS_ds_clim = xr.open_dataset(\"GLORYS_processed/GLORYS_Data.nc\").sel(longitude = slice(-124, -105), latitude = slice(25, 40))\n",
    "GLORYS_ds_clim = GLORYS_ds_clim.isel(time = slice(0,312)) #data corrupted beyond 312\n",
    "GLORYS_ds_clim = GLORYS_ds_clim.sel(depth = sigma0_NINO97.depth)\n"
   ]
  },
  {
   "cell_type": "code",
   "execution_count": null,
   "id": "5b6a0f03-6d17-407e-b279-fc6a6805d80b",
   "metadata": {},
   "outputs": [],
   "source": [
    "nt = len(GLORYS_ds_clim.time)\n",
    "# nd = len(GLORYS_ds_clim.depth)\n",
    "nlat = len(GLORYS_ds_clim.latitude)\n",
    "nlon = len(GLORYS_ds_clim.longitude)\n",
    "depth_grid = np.zeros((nt, nlat, nlon))\n",
    "lat_grid = np.zeros((nt, nlat, nlon))\n",
    "lon_grid = np.zeros((nt, nlat, nlon))\n",
    "LONS, LATS = np.meshgrid(GLORYS_ds_clim.longitude, GLORYS_ds_clim.latitude)\n",
    "\n",
    "for it in range(0, nt):\n",
    "        depth_grid[it, :, :] = -GLORYS_ds_clim.depth\n",
    "        lat_grid[it, :, :] = LATS\n",
    "        lon_grid[it, :, :] = LONS\n",
    "        \n",
    "SP = GLORYS_ds_clim.so.values\n",
    "pt0 = GLORYS_ds_clim.thetao.values\n",
    "sigma0_climatology = np.nan*GLORYS_ds_clim.thetao.rename(\"sigma0\")\n",
    "sigma0_climatology.values = sigma0_from_SP_and_pt0(depth_grid, SP, pt0, lon_grid, lat_grid)"
   ]
  },
  {
   "cell_type": "code",
   "execution_count": null,
   "id": "f5b5ad83-e086-4d32-a6d9-56cf6e9a1355",
   "metadata": {},
   "outputs": [],
   "source": [
    "sigma0_climatology = sigma0_climatology.groupby(\"time.month\").mean(\"time\")"
   ]
  },
  {
   "cell_type": "code",
   "execution_count": null,
   "id": "7676511d-bfa3-4ad1-811f-60dd8cb20fab",
   "metadata": {},
   "outputs": [],
   "source": [
    "sigma0_climatology.isel( month = 1).plot()"
   ]
  },
  {
   "cell_type": "code",
   "execution_count": null,
   "id": "fea19531-0f56-42cc-beb2-016bd3f7fe9c",
   "metadata": {},
   "outputs": [],
   "source": [
    "time_slice= slice(\"2008.7\", \"2010\")\n",
    "anomalies = sigma0_NINO97.groupby(\"time.month\") - sigma0_climatology\n",
    "sigma0_NINO97_anom = anomalies.drop(\"month\") \n",
    "sigma0_NINO97_anom = sigma0_NINO97_anom.sel(time = time_slice)"
   ]
  },
  {
   "cell_type": "code",
   "execution_count": null,
   "id": "2fe6f1a8-f191-4f2b-925a-4dccd87537cf",
   "metadata": {},
   "outputs": [],
   "source": [
    "# anomalies = sigma0_NINO97.groupby(\"time.month\") - sigma0_climatology.mean(dim = [\"latitude\", \"longitude\"])\n",
    "# sigma0_NINO97_anom = anomalies.drop(\"month\") - anomalies.mean(dim = \"time\")\n",
    "# sigma0_NINO97_anom = sigma0_NINO97 - sigma0_NINO97.mean(dim = [\"latitude\", \"longitude\", \"time\"]).values\n",
    "# sigma0_NINO97_anom = sigma0_NINO97_anom.drop(\"depth\")"
   ]
  },
  {
   "cell_type": "code",
   "execution_count": null,
   "id": "211709dc-5dc1-447b-9774-40b901b2986b",
   "metadata": {},
   "outputs": [],
   "source": [
    "#trying to recreate line 90 in California\n",
    "# y = mx + b \n",
    "x0 = -117; y0 = 33\n",
    "m = ((33 - 31) / (x0 - -125))\n",
    "b = y0- x0*m \n",
    "line = lambda x : m*x + b\n",
    "xs_C = np.linspace(-123, x0)\n",
    "ys_C = line(xs_C)"
   ]
  },
  {
   "cell_type": "code",
   "execution_count": null,
   "id": "937c5187-ec7b-4199-a304-ec619a6fdb56",
   "metadata": {},
   "outputs": [],
   "source": [
    "import numpy as np\n",
    "from matplotlib import pyplot as plt\n",
    "from matplotlib.animation import FuncAnimation\n",
    "\n",
    "event_name = \"09Nino\"\n",
    "NINO34_97 = remove_seasonal(NINO34).interp(time = sigma0_NINO97_anom.time)\n",
    "NINO34_97 = np.round(NINO34_97, decimals = 2)\n",
    "\n",
    "fig,ax1 = plt.subplots(figsize = (5, 5),  subplot_kw = {\"projection\":ccrs.PlateCarree()})\n",
    "\n",
    "data = sigma0_NINO97_anom.values\n",
    "times = sigma0_NINO97_anom.time.values\n",
    "times = pd.to_datetime(times).strftime('%Y-%m-%d')\n",
    "nt = len(times)\n",
    "\n",
    "\n",
    "LONS, LATS = np.meshgrid(sigma0_NINO97_anom.longitude, sigma0_NINO97_anom.latitude)\n",
    "bounds = np.nanmax(np.abs(data))\n",
    "levels = np.linspace(-bounds, bounds, 21)\n",
    "\n",
    "cf = ax1.contourf(LONS, LATS, data[0, :, :], \n",
    "                  vmin = -bounds, vmax = bounds, levels = levels, \n",
    "                  cmap=cm.curl, extend = \"both\")\n",
    "ax1.coastlines()\n",
    "gl = ax1.gridlines(crs=ccrs.PlateCarree(), draw_labels=True, alpha=0.0)\n",
    "gl.xlabels_top = False\n",
    "gl.ylabels_right = False\n",
    "fig.colorbar(cf, orientation = \"horizontal\")\n",
    "fig.suptitle(\"Potential Density Anomalies \\n (Seasonal Cycle Removed)\")\n",
    "fig.tight_layout()\n",
    "def animate(i):\n",
    "    ax1.clear(); \n",
    "    fontweight = \"normal\" if NINO34_97.values[i] < 0.5 else \"bold\"\n",
    "    ax1.set_title(times[i] + \"; NIÑO 3.4 = \" + str(NINO34_97.values[i]), fontweight = fontweight)\n",
    "    ax1.coastlines()\n",
    "    gl = ax1.gridlines(crs=ccrs.PlateCarree(), draw_labels=True, alpha=0.0)\n",
    "    gl.xlabels_top = False\n",
    "    gl.ylabels_right = False\n",
    "    cf = ax1.contourf(LONS, LATS, data[i, :, :], \n",
    "                      vmin = -bounds, vmax = bounds, levels = levels, \n",
    "                      cmap=cm.curl, extend = \"both\")\n",
    "    ax1.plot(xs_C, ys_C, color = \"k\")\n",
    "    \n",
    "anim = FuncAnimation(fig, animate, frames=nt, interval=20, blit=False)\n",
    "anim.save(event_name + '.gif', writer='imagemagick')"
   ]
  },
  {
   "cell_type": "code",
   "execution_count": null,
   "id": "09163c20-6644-43bc-842c-dfb9fbdf54ba",
   "metadata": {},
   "outputs": [],
   "source": []
  }
 ],
 "metadata": {
  "kernelspec": {
   "display_name": "notebook_env",
   "language": "python",
   "name": "notebook_env"
  },
  "language_info": {
   "codemirror_mode": {
    "name": "ipython",
    "version": 3
   },
   "file_extension": ".py",
   "mimetype": "text/x-python",
   "name": "python",
   "nbconvert_exporter": "python",
   "pygments_lexer": "ipython3",
   "version": "3.10.8"
  }
 },
 "nbformat": 4,
 "nbformat_minor": 5
}
